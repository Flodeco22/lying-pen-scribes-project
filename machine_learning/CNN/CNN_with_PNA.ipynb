{
 "cells": [
  {
   "cell_type": "code",
   "execution_count": 21,
   "id": "63538798-507b-476d-9ac6-ff53757f8296",
   "metadata": {},
   "outputs": [],
   "source": [
    "import torch\n",
    "import torchvision\n",
    "import torchvision.transforms as transforms\n",
    "from torch.utils.data import Dataset, DataLoader\n",
    "import numpy as np\n",
    "import matplotlib.pyplot as plt"
   ]
  },
  {
   "cell_type": "code",
   "execution_count": 22,
   "id": "3c2c6a42-59be-4749-a0a9-9b5ba7b5e355",
   "metadata": {},
   "outputs": [],
   "source": [
    "class CustomDataset(Dataset):\n",
    "    def __init__(self, images_file, labels_file, transform=None):\n",
    "        self.images = self.load_images(images_file)\n",
    "        self.labels = self.load_labels(labels_file)\n",
    "        self.transform = transform\n",
    "\n",
    "    def __len__(self):\n",
    "        return len(self.labels)\n",
    "\n",
    "    def __getitem__(self, idx):\n",
    "        image = self.images[idx]\n",
    "        label = self.labels[idx]\n",
    "        if self.transform:\n",
    "            image = self.transform(image)\n",
    "        return image, label\n",
    "\n",
    "    def load_images(self, file_path):\n",
    "        with open(file_path, 'rb') as f:\n",
    "            data = np.frombuffer(f.read(), dtype=np.uint8, offset=16)  # Skip first 16 bytes\n",
    "        num_images = len(data) // (28 * 28)\n",
    "        data = data.reshape(num_images, 28, 28)\n",
    "        return data.copy()  # Ensure the array is writable\n",
    "\n",
    "    def load_labels(self, file_path):\n",
    "        with open(file_path, 'rb') as f:\n",
    "            data = np.frombuffer(f.read(), dtype=np.uint8, offset=8)  # Skip first 8 bytes\n",
    "        return data"
   ]
  },
  {
   "cell_type": "code",
   "execution_count": 23,
   "id": "5e90cb72-05ee-4af2-b7da-f6e025f47ea1",
   "metadata": {},
   "outputs": [
    {
     "data": {
      "text/plain": [
       "\"\\ntrain_set = torchvision.datasets.MNIST(root='./data', train=True,\\n                                        download=True, transform=transform)\\nvalidation_set = torchvision.datasets.MNIST(root='./data', train=False,\\n                                        download=True, transform=transform)\\n\\nvalidation_loader = torch.utils.data.DataLoader(validation_set, batch_size=batch_size,\\n                                         shuffle=False, num_workers=2)\\ntrain_loader = torch.utils.data.DataLoader(train_set, batch_size=batch_size,\\n                                          shuffle=True, num_workers=2)\\n\""
      ]
     },
     "execution_count": 23,
     "metadata": {},
     "output_type": "execute_result"
    }
   ],
   "source": [
    "train_images_file = \"dataset/train-images-idx3-ubyte\"\n",
    "train_labels_file = \"dataset/train-labels-idx1-ubyte\"\n",
    "validation_images_file = \"dataset/validation-images-idx3-ubyte\"\n",
    "validation_labels_file = \"dataset/validation-labels-idx1-ubyte\"\n",
    "\n",
    "batch_size = 4\n",
    "\n",
    "transform = transforms.Compose(\n",
    "    [transforms.ToTensor(),\n",
    "     transforms.Normalize(0.5, 0.5)])\n",
    "\n",
    "train_set = CustomDataset(train_images_file, train_labels_file, transform=transform)\n",
    "validation_set = CustomDataset(validation_images_file, validation_labels_file, transform=transform)\n",
    "\n",
    "validation_loader = DataLoader(validation_set, batch_size=batch_size, shuffle=True)\n",
    "train_loader = DataLoader(train_set, batch_size=batch_size, shuffle=True)\n",
    "\n",
    "'''\n",
    "train_set = torchvision.datasets.MNIST(root='./data', train=True,\n",
    "                                        download=True, transform=transform)\n",
    "validation_set = torchvision.datasets.MNIST(root='./data', train=False,\n",
    "                                        download=True, transform=transform)\n",
    "\n",
    "validation_loader = torch.utils.data.DataLoader(validation_set, batch_size=batch_size,\n",
    "                                         shuffle=False, num_workers=2)\n",
    "train_loader = torch.utils.data.DataLoader(train_set, batch_size=batch_size,\n",
    "                                          shuffle=True, num_workers=2)\n",
    "'''"
   ]
  },
  {
   "cell_type": "code",
   "execution_count": 24,
   "id": "36f570c1-a909-4fbb-acf4-cb6f5115d4ae",
   "metadata": {},
   "outputs": [
    {
     "name": "stdout",
     "output_type": "stream",
     "text": [
      "Alef\n"
     ]
    },
    {
     "data": {
      "text/plain": [
       "'\\nmap_dict = {0: \"0\", 1: \"1\", 2: \"2\", 3: \"3\", 4: \"4\", 5: \"5\", 6: \"6\", 7: \"7\", 8: \"8\", 9: \"9\"}\\nprint(map_dict[0])\\n'"
      ]
     },
     "execution_count": 24,
     "metadata": {},
     "output_type": "execute_result"
    }
   ],
   "source": [
    "with open('dictionnary_labels.txt', 'r') as file:\n",
    "    lines = file.readlines()\n",
    "\n",
    "map_dict = {}\n",
    "\n",
    "for line in lines:\n",
    "    line = line.strip()\n",
    "    key, value = line.split('_')\n",
    "    map_dict[int(key) - 1] = value\n",
    "\n",
    "print(map_dict[0])\n",
    "\n",
    "\"\"\"\n",
    "map_dict = {0: \"0\", 1: \"1\", 2: \"2\", 3: \"3\", 4: \"4\", 5: \"5\", 6: \"6\", 7: \"7\", 8: \"8\", 9: \"9\"}\n",
    "print(map_dict[0])\n",
    "\"\"\""
   ]
  },
  {
   "cell_type": "code",
   "execution_count": 25,
   "id": "2fca3b1e-cc26-4b4e-ade0-2bc6df303ffc",
   "metadata": {},
   "outputs": [
    {
     "data": {
      "image/png": "[encoded data removed]",
      "text/plain": [
       "<Figure size 640x480 with 1 Axes>"
      ]
     },
     "metadata": {},
     "output_type": "display_data"
    },
    {
     "name": "stdout",
     "output_type": "stream",
     "text": [
      "Waw   Alef  Hey   Hey  \n"
     ]
    }
   ],
   "source": [
    "def imshow(img):\n",
    "    img = img / 2 + 0.5     # unnormalize\n",
    "    npimg = img.numpy()\n",
    "    plt.imshow(np.transpose(npimg, (1, 2, 0)))\n",
    "    plt.show()\n",
    "\n",
    "\n",
    "# get some random training images\n",
    "dataiter = iter(train_loader)\n",
    "images, labels = next(dataiter)\n",
    "\n",
    "# show images\n",
    "imshow(torchvision.utils.make_grid(images))\n",
    "# print labels\n",
    "print(' '.join(f'{map_dict[int(labels[j])]:5s}' for j in range(batch_size)))"
   ]
  },
  {
   "cell_type": "code",
   "execution_count": 26,
   "id": "85384a0e-ff5e-42cc-9fc5-e7a4b2258962",
   "metadata": {},
   "outputs": [],
   "source": [
    "import torch.nn as nn\n",
    "import torch.nn.functional as F\n",
    "\n",
    "\n",
    "class Net(nn.Module):\n",
    "    def __init__(self):\n",
    "        super().__init__()\n",
    "        self.conv1 = nn.Conv2d(1, 6, 5)\n",
    "        self.pool = nn.MaxPool2d(2, 2)\n",
    "        self.conv2 = nn.Conv2d(6, 16, 5)\n",
    "        self.fc1 = nn.Linear(16 * 4 * 4, 120)\n",
    "        self.fc2 = nn.Linear(120, 84)\n",
    "        self.fc3 = nn.Linear(84, 22)\n",
    "\n",
    "    def forward(self, x):\n",
    "        x = self.pool(F.relu(self.conv1(x)))\n",
    "        x = self.pool(F.relu(self.conv2(x)))\n",
    "        x = torch.flatten(x, 1) # flatten all dimensions except batch\n",
    "        x = F.relu(self.fc1(x))\n",
    "        x = F.relu(self.fc2(x))\n",
    "        x = self.fc3(x)\n",
    "        return x\n",
    "\n",
    "net = Net()"
   ]
  },
  {
   "cell_type": "code",
   "execution_count": 27,
   "id": "2be74d6b-a886-4ed1-aea4-aa9086d391b1",
   "metadata": {},
   "outputs": [],
   "source": [
    "import torch.optim as optim\n",
    "\n",
    "criterion = nn.CrossEntropyLoss()\n",
    "optimizer = optim.SGD(net.parameters(), lr=0.001, momentum=0.9)"
   ]
  },
  {
   "cell_type": "code",
   "execution_count": 28,
   "id": "ffba5c29-9a42-4ddf-bab9-7c97536ab3ab",
   "metadata": {},
   "outputs": [
    {
     "name": "stdout",
     "output_type": "stream",
     "text": [
      "[1,     1] loss: 1.584\n",
      "[1,    12] loss: 17.175\n",
      "[1,    23] loss: 17.042\n",
      "[1,    34] loss: 16.926\n",
      "[1,    45] loss: 16.781\n",
      "[1,    56] loss: 16.654\n",
      "[1,    67] loss: 16.534\n",
      "[1,    78] loss: 16.332\n",
      "[1,    89] loss: 16.063\n",
      "[2,     1] loss: 1.439\n",
      "[2,    12] loss: 15.662\n",
      "[2,    23] loss: 14.775\n",
      "[2,    34] loss: 13.862\n",
      "[2,    45] loss: 13.082\n",
      "[2,    56] loss: 11.917\n",
      "[2,    67] loss: 10.645\n",
      "[2,    78] loss: 10.456\n",
      "[2,    89] loss: 10.157\n",
      "[3,     1] loss: 1.025\n",
      "[3,    12] loss: 10.013\n",
      "[3,    23] loss: 9.716\n",
      "[3,    34] loss: 9.483\n",
      "[3,    45] loss: 9.296\n",
      "[3,    56] loss: 8.564\n",
      "[3,    67] loss: 8.311\n",
      "[3,    78] loss: 8.736\n",
      "[3,    89] loss: 7.823\n",
      "[4,     1] loss: 0.581\n",
      "[4,    12] loss: 6.425\n",
      "[4,    23] loss: 6.736\n",
      "[4,    34] loss: 6.293\n",
      "[4,    45] loss: 5.492\n",
      "[4,    56] loss: 6.113\n",
      "[4,    67] loss: 5.578\n",
      "[4,    78] loss: 5.570\n",
      "[4,    89] loss: 6.522\n",
      "[5,     1] loss: 0.137\n",
      "[5,    12] loss: 5.812\n",
      "[5,    23] loss: 5.232\n",
      "[5,    34] loss: 4.275\n",
      "[5,    45] loss: 5.662\n",
      "[5,    56] loss: 5.498\n",
      "[5,    67] loss: 7.092\n",
      "[5,    78] loss: 5.813\n",
      "[5,    89] loss: 4.971\n",
      "[6,     1] loss: 0.262\n",
      "[6,    12] loss: 3.416\n",
      "[6,    23] loss: 3.335\n",
      "[6,    34] loss: 3.493\n",
      "[6,    45] loss: 4.718\n",
      "[6,    56] loss: 5.034\n",
      "[6,    67] loss: 6.762\n",
      "[6,    78] loss: 5.120\n",
      "[6,    89] loss: 4.770\n",
      "[7,     1] loss: 0.406\n",
      "[7,    12] loss: 3.719\n",
      "[7,    23] loss: 5.354\n",
      "[7,    34] loss: 4.775\n",
      "[7,    45] loss: 2.428\n",
      "[7,    56] loss: 2.138\n",
      "[7,    67] loss: 3.952\n",
      "[7,    78] loss: 4.354\n",
      "[7,    89] loss: 3.717\n",
      "[8,     1] loss: 0.219\n",
      "[8,    12] loss: 3.231\n",
      "[8,    23] loss: 3.325\n",
      "[8,    34] loss: 3.238\n",
      "[8,    45] loss: 2.879\n",
      "[8,    56] loss: 3.227\n",
      "[8,    67] loss: 3.828\n",
      "[8,    78] loss: 1.890\n",
      "[8,    89] loss: 3.367\n",
      "[9,     1] loss: 0.879\n",
      "[9,    12] loss: 2.350\n",
      "[9,    23] loss: 3.091\n",
      "[9,    34] loss: 2.832\n",
      "[9,    45] loss: 2.202\n",
      "[9,    56] loss: 2.449\n",
      "[9,    67] loss: 1.845\n",
      "[9,    78] loss: 2.558\n",
      "[9,    89] loss: 3.410\n",
      "[10,     1] loss: 0.092\n",
      "[10,    12] loss: 2.354\n",
      "[10,    23] loss: 2.649\n",
      "[10,    34] loss: 2.943\n",
      "[10,    45] loss: 2.259\n",
      "[10,    56] loss: 2.408\n",
      "[10,    67] loss: 1.944\n",
      "[10,    78] loss: 1.435\n",
      "[10,    89] loss: 1.915\n",
      "[11,     1] loss: 0.129\n",
      "[11,    12] loss: 2.023\n",
      "[11,    23] loss: 1.407\n",
      "[11,    34] loss: 2.387\n",
      "[11,    45] loss: 0.855\n",
      "[11,    56] loss: 1.463\n",
      "[11,    67] loss: 3.438\n",
      "[11,    78] loss: 2.038\n",
      "[11,    89] loss: 1.503\n",
      "[12,     1] loss: 0.003\n",
      "[12,    12] loss: 0.912\n",
      "[12,    23] loss: 2.288\n",
      "[12,    34] loss: 1.515\n",
      "[12,    45] loss: 0.797\n",
      "[12,    56] loss: 1.875\n",
      "[12,    67] loss: 1.807\n",
      "[12,    78] loss: 1.727\n",
      "[12,    89] loss: 2.215\n",
      "[13,     1] loss: 0.014\n",
      "[13,    12] loss: 1.693\n",
      "[13,    23] loss: 0.818\n",
      "[13,    34] loss: 1.983\n",
      "[13,    45] loss: 1.169\n",
      "[13,    56] loss: 1.527\n",
      "[13,    67] loss: 1.867\n",
      "[13,    78] loss: 1.699\n",
      "[13,    89] loss: 1.005\n",
      "[14,     1] loss: 0.306\n",
      "[14,    12] loss: 1.523\n",
      "[14,    23] loss: 0.980\n",
      "[14,    34] loss: 1.363\n",
      "[14,    45] loss: 1.917\n",
      "[14,    56] loss: 1.097\n",
      "[14,    67] loss: 0.939\n",
      "[14,    78] loss: 1.125\n",
      "[14,    89] loss: 1.614\n",
      "[15,     1] loss: 0.059\n",
      "[15,    12] loss: 0.662\n",
      "[15,    23] loss: 1.412\n",
      "[15,    34] loss: 1.112\n",
      "[15,    45] loss: 0.481\n",
      "[15,    56] loss: 0.479\n",
      "[15,    67] loss: 2.066\n",
      "[15,    78] loss: 1.624\n",
      "[15,    89] loss: 1.242\n",
      "Finished Training\n"
     ]
    }
   ],
   "source": [
    "for epoch in range(15):  # loop over the dataset multiple times\n",
    "\n",
    "    running_loss = 0.0\n",
    "    for i, data in enumerate(train_loader, 0):\n",
    "        # get the inputs; data is a list of [inputs, labels]\n",
    "        inputs, labels = data\n",
    "\n",
    "        # zero the parameter gradients\n",
    "        optimizer.zero_grad()\n",
    "\n",
    "        # forward + backward + optimize\n",
    "        outputs = net(inputs)\n",
    "        loss = criterion(outputs, labels)\n",
    "        loss.backward()\n",
    "        optimizer.step()\n",
    "\n",
    "        # print statistics\n",
    "        running_loss += loss.item()\n",
    "        if i % 11 == 0:    # print every 2 mini-batches for this example\n",
    "            print(f'[{epoch + 1}, {i + 1:5d}] loss: {running_loss / 2:.3f}')\n",
    "            running_loss = 0.0\n",
    "\n",
    "print('Finished Training')\n",
    "\n",
    "PATH = './PNA_net.pth'\n",
    "torch.save(net.state_dict(), PATH)"
   ]
  },
  {
   "cell_type": "code",
   "execution_count": 29,
   "id": "118380ae-9f8b-4db7-bc30-9c642252dda8",
   "metadata": {},
   "outputs": [
    {
     "data": {
      "image/png": "[encoded data removed]",
      "text/plain": [
       "<Figure size 640x480 with 1 Axes>"
      ]
     },
     "metadata": {},
     "output_type": "display_data"
    },
    {
     "name": "stdout",
     "output_type": "stream",
     "text": [
      "Shin  Hey   Tav   Yod  \n"
     ]
    }
   ],
   "source": [
    "dataiter = iter(validation_loader)\n",
    "images, labels = next(dataiter)\n",
    "\n",
    "# print images\n",
    "imshow(torchvision.utils.make_grid(images))\n",
    "print(' '.join(f'{map_dict[int(labels[j])]:5s}' for j in range(batch_size)))"
   ]
  },
  {
   "cell_type": "code",
   "execution_count": 30,
   "id": "af937860-882e-4d86-8b79-dee414871ce0",
   "metadata": {},
   "outputs": [
    {
     "data": {
      "text/plain": [
       "<All keys matched successfully>"
      ]
     },
     "execution_count": 30,
     "metadata": {},
     "output_type": "execute_result"
    }
   ],
   "source": [
    "net = Net()\n",
    "net.load_state_dict(torch.load(PATH))"
   ]
  },
  {
   "cell_type": "code",
   "execution_count": 31,
   "id": "c2576678-1aaa-45d7-87bf-f8c0b4f784a9",
   "metadata": {},
   "outputs": [],
   "source": [
    "outputs = net(images)"
   ]
  },
  {
   "cell_type": "code",
   "execution_count": 32,
   "id": "a27552e2-f34d-4787-9fdb-d6bd2fb568ea",
   "metadata": {},
   "outputs": [
    {
     "name": "stdout",
     "output_type": "stream",
     "text": [
      "Predicted:  Shin  Hey   Tav   Yod  \n"
     ]
    }
   ],
   "source": [
    "_, predicted = torch.max(outputs, 1)\n",
    "\n",
    "print('Predicted: ', ' '.join(f'{map_dict[int(predicted[j])]:5s}'\n",
    "                              for j in range(batch_size)))"
   ]
  }
 ],
 "metadata": {
  "kernelspec": {
   "display_name": "Python 3 (ipykernel)",
   "language": "python",
   "name": "python3"
  },
  "language_info": {
   "codemirror_mode": {
    "name": "ipython",
    "version": 3
   },
   "file_extension": ".py",
   "mimetype": "text/x-python",
   "name": "python",
   "nbconvert_exporter": "python",
   "pygments_lexer": "ipython3",
   "version": "3.10.2"
  }
 },
 "nbformat": 4,
 "nbformat_minor": 5
}
