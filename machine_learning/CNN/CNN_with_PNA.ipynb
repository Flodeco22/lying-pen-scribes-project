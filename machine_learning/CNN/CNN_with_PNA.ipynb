{
 "cells": [
  {
   "cell_type": "code",
   "execution_count": 437,
   "id": "e78bf99b-9a79-4948-8c6a-5bbd2d5ca86a",
   "metadata": {},
   "outputs": [],
   "source": [
    "# Main source : https://pytorch.org/tutorials/beginner/blitz/cifar10_tutorial.html"
   ]
  },
  {
   "cell_type": "code",
   "execution_count": 438,
   "id": "63538798-507b-476d-9ac6-ff53757f8296",
   "metadata": {},
   "outputs": [],
   "source": [
    "import torch\n",
    "import torchvision\n",
    "import torchvision.transforms as transforms\n",
    "from torch.utils.data import Dataset, DataLoader\n",
    "import numpy as np\n",
    "import matplotlib.pyplot as plt\n",
    "from PIL import Image, ImageOps"
   ]
  },
  {
   "cell_type": "code",
   "execution_count": 439,
   "id": "3c2c6a42-59be-4749-a0a9-9b5ba7b5e355",
   "metadata": {},
   "outputs": [],
   "source": [
    "# Custom Dataset to manage images (28x28) and their labels. Mainly related to the Dead Sea Scrolls.\n",
    "class CustomDataset(Dataset):\n",
    "    def __init__(self, images_file, labels_file, transform=None):\n",
    "        self.images = self.load_images(images_file)\n",
    "        self.labels = self.load_labels(labels_file)\n",
    "        self.transform = transform\n",
    "\n",
    "    def __len__(self):\n",
    "        return len(self.labels)\n",
    "\n",
    "    def __getitem__(self, idx):\n",
    "        image = self.images[idx]\n",
    "        label = self.labels[idx]\n",
    "        if self.transform:\n",
    "            image = self.transform(image)\n",
    "        return image, label\n",
    "\n",
    "    def load_images(self, file_path):\n",
    "        with open(file_path, 'rb') as f:\n",
    "            data = np.frombuffer(f.read(), dtype=np.uint8, offset=16)  # Skip first 16 bytes\n",
    "        num_images = len(data) // (28 * 28)\n",
    "        data = data.reshape(num_images, 28, 28)\n",
    "        return data.copy()  # Ensure the array is writable\n",
    "\n",
    "    def load_labels(self, file_path):\n",
    "        with open(file_path, 'rb') as f:\n",
    "            data = np.frombuffer(f.read(), dtype=np.uint8, offset=8)  # Skip first 8 bytes\n",
    "        return data"
   ]
  },
  {
   "cell_type": "code",
   "execution_count": 440,
   "id": "5e90cb72-05ee-4af2-b7da-f6e025f47ea1",
   "metadata": {},
   "outputs": [
    {
     "data": {
      "text/plain": [
       "\"\\ntrain_set = torchvision.datasets.MNIST(root='./data', train=True,\\n                                        download=True, transform=transform)\\nvalidation_set = torchvision.datasets.MNIST(root='./data', train=False,\\n                                        download=True, transform=transform)\\n\\nvalidation_loader = torch.utils.data.DataLoader(validation_set, batch_size=batch_size,\\n                                         shuffle=False, num_workers=2)\\ntrain_loader = torch.utils.data.DataLoader(train_set, batch_size=batch_size,\\n                                          shuffle=True, num_workers=2)\\n\""
      ]
     },
     "execution_count": 440,
     "metadata": {},
     "output_type": "execute_result"
    }
   ],
   "source": [
    "train_images_file = \"dataset/train-images-idx3-ubyte\"\n",
    "train_labels_file = \"dataset/train-labels-idx1-ubyte\"\n",
    "validation_images_file = \"dataset/validation-images-idx3-ubyte\"\n",
    "validation_labels_file = \"dataset/validation-labels-idx1-ubyte\"\n",
    "\n",
    "batch_size = 6 # number of samples (images and their corresponding labels) to be loaded and processed together for each iteration of training or model validation\n",
    "\n",
    "transform = transforms.Compose(\n",
    "    [transforms.ToTensor(),\n",
    "     transforms.Normalize(0.5, 0.5)])\n",
    "\n",
    "train_set = CustomDataset(train_images_file, train_labels_file, transform=transform) # Loading Dataset Training\n",
    "validation_set = CustomDataset(validation_images_file, validation_labels_file, transform=transform) # Loading Dataset Validation\n",
    "\n",
    "validation_loader = DataLoader(validation_set, batch_size=batch_size, shuffle=True) # Shuffle Dataset Validation and divide into batches\n",
    "train_loader = DataLoader(train_set, batch_size=batch_size, shuffle=True) # Shuffle Dataset Training and divide into batches\n",
    "\n",
    "'''\n",
    "train_set = torchvision.datasets.MNIST(root='./data', train=True,\n",
    "                                        download=True, transform=transform)\n",
    "validation_set = torchvision.datasets.MNIST(root='./data', train=False,\n",
    "                                        download=True, transform=transform)\n",
    "\n",
    "validation_loader = torch.utils.data.DataLoader(validation_set, batch_size=batch_size,\n",
    "                                         shuffle=False, num_workers=2)\n",
    "train_loader = torch.utils.data.DataLoader(train_set, batch_size=batch_size,\n",
    "                                          shuffle=True, num_workers=2)\n",
    "'''"
   ]
  },
  {
   "cell_type": "code",
   "execution_count": 441,
   "id": "36f570c1-a909-4fbb-acf4-cb6f5115d4ae",
   "metadata": {},
   "outputs": [
    {
     "name": "stdout",
     "output_type": "stream",
     "text": [
      "Alef\n"
     ]
    },
    {
     "data": {
      "text/plain": [
       "'\\nmap_dict = {0: \"0\", 1: \"1\", 2: \"2\", 3: \"3\", 4: \"4\", 5: \"5\", 6: \"6\", 7: \"7\", 8: \"8\", 9: \"9\"}\\nprint(map_dict[0])\\n'"
      ]
     },
     "execution_count": 441,
     "metadata": {},
     "output_type": "execute_result"
    }
   ],
   "source": [
    "# Generate Dictionnary of Hebrew Characters to correspond to the labels (0 to 21)\n",
    "with open('dictionnary_labels.txt', 'r') as file:\n",
    "    lines = file.readlines()\n",
    "\n",
    "map_dict = {}\n",
    "\n",
    "for line in lines:\n",
    "    line = line.strip()\n",
    "    key, value = line.split('_')\n",
    "    map_dict[int(key) - 1] = value\n",
    "\n",
    "print(map_dict[0])\n",
    "\n",
    "\"\"\"\n",
    "map_dict = {0: \"0\", 1: \"1\", 2: \"2\", 3: \"3\", 4: \"4\", 5: \"5\", 6: \"6\", 7: \"7\", 8: \"8\", 9: \"9\"}\n",
    "print(map_dict[0])\n",
    "\"\"\""
   ]
  },
  {
   "cell_type": "code",
   "execution_count": 442,
   "id": "2fca3b1e-cc26-4b4e-ade0-2bc6df303ffc",
   "metadata": {},
   "outputs": [
    {
     "data": {
      "image/png": "[encoded data removed]",
      "text/plain": [
       "<Figure size 640x480 with 1 Axes>"
      ]
     },
     "metadata": {},
     "output_type": "display_data"
    },
    {
     "name": "stdout",
     "output_type": "stream",
     "text": [
      "Yod   Alef  Tav   Tav   Waw   Hey  \n"
     ]
    }
   ],
   "source": [
    "def imshow(img):\n",
    "    img = img / 2 + 0.5     # unnormalize\n",
    "    npimg = img.numpy()\n",
    "    plt.imshow(np.transpose(npimg, (1, 2, 0)))\n",
    "    plt.show()\n",
    "\n",
    "\n",
    "# get some random training images\n",
    "dataiter = iter(train_loader)\n",
    "images, labels = next(dataiter)\n",
    "\n",
    "# show images\n",
    "imshow(torchvision.utils.make_grid(images))\n",
    "# print labels\n",
    "print(' '.join(f'{map_dict[int(labels[j])]:5s}' for j in range(batch_size)))"
   ]
  },
  {
   "cell_type": "code",
   "execution_count": 443,
   "id": "85384a0e-ff5e-42cc-9fc5-e7a4b2258962",
   "metadata": {},
   "outputs": [],
   "source": [
    "import torch.nn as nn\n",
    "import torch.nn.functional as F\n",
    "\n",
    "\n",
    "class Net(nn.Module):\n",
    "    def __init__(self):\n",
    "        super().__init__()\n",
    "        # First convolutional layer: input channels = 1 (dimension of the picture), output channels = 6, kernel size = 5x5\n",
    "        self.conv1 = nn.Conv2d(1, 6, 5)\n",
    "        # Max pooling layer: kernel size = 2x2, stride = 2\n",
    "        self.pool = nn.MaxPool2d(2, 2)\n",
    "         # Second convolutional layer: input channels = 6, output channels = 16, kernel size = 5x5\n",
    "        self.conv2 = nn.Conv2d(6, 16, 5)\n",
    "        # First fully connected layer: input features = 16*4*4, output features = 120\n",
    "        self.fc1 = nn.Linear(16 * 4 * 4, 120)\n",
    "        # Second fully connected layer: input features = 120, output features = 84\n",
    "        self.fc2 = nn.Linear(120, 84)\n",
    "        # Output layer: input features = 84, output features = 22 (assuming 22 classes)\n",
    "        self.fc3 = nn.Linear(84, 22)\n",
    "\n",
    "    def forward(self, x):\n",
    "        # Forward pass through the network\n",
    "        x = self.pool(F.relu(self.conv1(x)))\n",
    "        x = self.pool(F.relu(self.conv2(x)))\n",
    "        x = torch.flatten(x, 1) # flatten all dimensions except batch\n",
    "        x = F.relu(self.fc1(x))\n",
    "        x = F.relu(self.fc2(x))\n",
    "        x = self.fc3(x)\n",
    "        return x\n",
    "        \n",
    "# Instantiate the neural network\n",
    "net = Net()"
   ]
  },
  {
   "cell_type": "code",
   "execution_count": 444,
   "id": "2be74d6b-a886-4ed1-aea4-aa9086d391b1",
   "metadata": {},
   "outputs": [
    {
     "data": {
      "text/plain": [
       "'\\n- `optim.SGD()`: This creates an instance of the Stochastic Gradient Descent (SGD) optimizer.\\n  Stochastic Gradient Descent is a popular optimization algorithm used for training \\n  neural networks. It updates the parameters (weights and biases) of the network \\n  based on the gradients of the loss function with respect to those parameters.\\n- `net.parameters()`: This specifies the parameters (weights and biases) of the neural \\n  network that should be optimized.\\n- `lr=0.001`: This sets the learning rate, which controls the step size of the parameter \\n  updates during optimization. A learning rate of 0.001 is commonly used as a starting \\n  point for many optimization tasks.\\n- `momentum=0.9`: This sets the momentum parameter, which accelerates SGD in the \\n  relevant direction and dampens oscillations. It helps to converge faster towards \\n  the minimum of the loss function.\\n'"
      ]
     },
     "execution_count": 444,
     "metadata": {},
     "output_type": "execute_result"
    }
   ],
   "source": [
    "import torch.optim as optim\n",
    "\n",
    "# Define a Loss function and optimizer :\n",
    "\n",
    "# Define the loss function\n",
    "criterion = nn.CrossEntropyLoss()\n",
    "'''\n",
    "- `nn.CrossEntropyLoss()`: This creates an instance of the Cross Entropy Loss criterion.\n",
    "  Cross Entropy Loss is commonly used for classification problems. It computes the \n",
    "  cross-entropy loss between the predicted probability distribution and the true \n",
    "  label distribution. It is suitable for multi-class classification tasks.\n",
    "'''\n",
    "\n",
    "# Define the optimizer\n",
    "optimizer = optim.SGD(net.parameters(), lr=0.001, momentum=0.9)\n",
    "'''\n",
    "- `optim.SGD()`: This creates an instance of the Stochastic Gradient Descent (SGD) optimizer.\n",
    "  Stochastic Gradient Descent is a popular optimization algorithm used for training \n",
    "  neural networks. It updates the parameters (weights and biases) of the network \n",
    "  based on the gradients of the loss function with respect to those parameters.\n",
    "- `net.parameters()`: This specifies the parameters (weights and biases) of the neural \n",
    "  network that should be optimized.\n",
    "- `lr=0.001`: This sets the learning rate, which controls the step size of the parameter \n",
    "  updates during optimization. A learning rate of 0.001 is commonly used as a starting \n",
    "  point for many optimization tasks.\n",
    "- `momentum=0.9`: This sets the momentum parameter, which accelerates SGD in the \n",
    "  relevant direction and dampens oscillations. It helps to converge faster towards \n",
    "  the minimum of the loss function.\n",
    "'''"
   ]
  },
  {
   "cell_type": "code",
   "execution_count": 445,
   "id": "676784b0-d066-4833-9941-ed7437c7f043",
   "metadata": {},
   "outputs": [
    {
     "data": {
      "text/plain": [
       "\"\\n4 Mesures to understand the training model :\\n\\n-- Loss -- \\n\\nLoss is a measure of model error. It quantifies the extent to which the model's predictions deviate from the true values.\\nCross-Entropy Loss computes the difference between two probability distributions for a provided set of occurrences or random variables.\\nThe loss is between 0 (good) and 1 (bad).\\n\\nOther loss functions : https://neptune.ai/blog/pytorch-loss-functions\\n\\n-- Accuracy --\\n\\nAccuracy is the percentage of correct predictions out of all predictions. \\nIt is calculated as the number of correct predictions divided by the total number of predictions.\\nThe Accuracy is between 0 (bad) and 1 (good).\\n\\n-- Recall --\\n\\nRecall is the percentage of true positives captured among all the elements that are actually positive. \\nIt is calculated as the number of true positives divided by the sum of true positives and false negatives.\\nThe Recall is between 0 (bad) and 1 (good).\\n\\n-- F1-score --\\n\\nThe F1-score is the harmonic mean of precision and recall. \\nIt is calculated as F1 = 2 * ((Accuracy*Recall)/(Accuracy+Recall))\\n\\n\""
      ]
     },
     "execution_count": 445,
     "metadata": {},
     "output_type": "execute_result"
    }
   ],
   "source": [
    "\"\"\"\n",
    "4 Mesures to understand the training model :\n",
    "\n",
    "-- Loss -- \n",
    "\n",
    "Loss is a measure of model error. It quantifies the extent to which the model's predictions deviate from the true values.\n",
    "Cross-Entropy Loss computes the difference between two probability distributions for a provided set of occurrences or random variables.\n",
    "The loss is between 0 (good) and 1 (bad).\n",
    "\n",
    "Other loss functions : https://neptune.ai/blog/pytorch-loss-functions\n",
    "\n",
    "-- Accuracy --\n",
    "\n",
    "Accuracy is the percentage of correct predictions out of all predictions. \n",
    "It is calculated as the number of correct predictions divided by the total number of predictions.\n",
    "The Accuracy is between 0 (bad) and 1 (good).\n",
    "\n",
    "-- Recall --\n",
    "\n",
    "Recall is the percentage of true positives captured among all the elements that are actually positive. \n",
    "It is calculated as the number of true positives divided by the sum of true positives and false negatives.\n",
    "The Recall is between 0 (bad) and 1 (good).\n",
    "\n",
    "-- F1-score --\n",
    "\n",
    "The F1-score is the harmonic mean of precision and recall. \n",
    "It is calculated as F1 = 2 * ((Accuracy*Recall)/(Accuracy+Recall))\n",
    "\n",
    "\"\"\""
   ]
  },
  {
   "cell_type": "code",
   "execution_count": 446,
   "id": "ffba5c29-9a42-4ddf-bab9-7c97536ab3ab",
   "metadata": {},
   "outputs": [
    {
     "name": "stderr",
     "output_type": "stream",
     "text": [
      "C:\\Users\\leo22\\AppData\\Local\\Programs\\Python\\Python310\\lib\\site-packages\\sklearn\\metrics\\_classification.py:1509: UndefinedMetricWarning: Recall is ill-defined and being set to 0.0 in labels with no true samples. Use `zero_division` parameter to control this behavior.\n",
      "  _warn_prf(average, modifier, f\"{metric.capitalize()} is\", len(result))\n"
     ]
    },
    {
     "name": "stdout",
     "output_type": "stream",
     "text": [
      "Epoch [1] Accuracy: 0.303, Recall: 0.252, F1-score: 0.234, loss: 1.966\n",
      "Epoch [2] Accuracy: 0.688, Recall: 0.686, F1-score: 0.680, loss: 0.887\n",
      "Epoch [3] Accuracy: 0.775, Recall: 0.777, F1-score: 0.774, loss: 0.649\n",
      "Epoch [4] Accuracy: 0.828, Recall: 0.829, F1-score: 0.829, loss: 0.511\n",
      "Epoch [5] Accuracy: 0.862, Recall: 0.863, F1-score: 0.863, loss: 0.397\n",
      "Finished Training\n"
     ]
    }
   ],
   "source": [
    "from sklearn.metrics import accuracy_score, recall_score, f1_score\n",
    "\n",
    "for epoch in range(5):  # loop over the dataset multiple times\n",
    "\n",
    "    running_loss = 0.0\n",
    "    all_labels = []\n",
    "    all_preds = []\n",
    "    num_mini_batches = len(train_loader)\n",
    "    \n",
    "    for i, data in enumerate(train_loader, 0):\n",
    "        # get the inputs; data is a list of [inputs, labels]\n",
    "        inputs, labels = data\n",
    "\n",
    "        # zero the parameter gradients\n",
    "        optimizer.zero_grad()\n",
    "\n",
    "        # forward + backward + optimize\n",
    "        outputs = net(inputs)\n",
    "        loss = criterion(outputs, labels)\n",
    "        loss.backward()\n",
    "        optimizer.step()\n",
    "\n",
    "        # collect predictions and true labels\n",
    "        _, predicted = torch.max(outputs.data, 1)\n",
    "        all_labels.extend(labels.cpu().numpy())\n",
    "        all_preds.extend(predicted.cpu().numpy())\n",
    "\n",
    "        # print statistics\n",
    "        running_loss += loss.item()\n",
    "        \"\"\"\n",
    "        if i % 11 == 0:    # print every 2 mini-batches for this example\n",
    "            print(f'[{epoch + 1}, {i + 1:5d}] loss: {running_loss / 2:.3f}')\n",
    "            running_loss = 0.0\n",
    "        \"\"\"    \n",
    "\n",
    "    # Calculate metrics for the current epoch\n",
    "    average_loss = running_loss / num_mini_batches\n",
    "    accuracy = accuracy_score(all_labels, all_preds)\n",
    "    recall = recall_score(all_labels, all_preds, average='macro')\n",
    "    f1 = f1_score(all_labels, all_preds, average='macro')\n",
    "    \n",
    "    print(f'Epoch [{epoch + 1}] Accuracy: {accuracy:.3f}, Recall: {recall:.3f}, F1-score: {f1:.3f}, loss: {average_loss:.3f}')\n",
    "\n",
    "print('Finished Training')\n",
    "\n",
    "PATH = './PNA_net.pth'\n",
    "torch.save(net.state_dict(), PATH)"
   ]
  },
  {
   "cell_type": "code",
   "execution_count": 447,
   "id": "118380ae-9f8b-4db7-bc30-9c642252dda8",
   "metadata": {},
   "outputs": [
    {
     "data": {
      "image/png": "[encoded data removed]",
      "text/plain": [
       "<Figure size 640x480 with 1 Axes>"
      ]
     },
     "metadata": {},
     "output_type": "display_data"
    },
    {
     "name": "stdout",
     "output_type": "stream",
     "text": [
      "Hey   Hey   Shin  Tav   Lamed Alef \n"
     ]
    }
   ],
   "source": [
    "# get some random validation images\n",
    "dataiter = iter(validation_loader)\n",
    "images, labels = next(dataiter)\n",
    "\n",
    "# print images\n",
    "imshow(torchvision.utils.make_grid(images))\n",
    "print(' '.join(f'{map_dict[int(labels[j])]:5s}' for j in range(batch_size)))"
   ]
  },
  {
   "cell_type": "code",
   "execution_count": 448,
   "id": "af937860-882e-4d86-8b79-dee414871ce0",
   "metadata": {},
   "outputs": [
    {
     "data": {
      "text/plain": [
       "<All keys matched successfully>"
      ]
     },
     "execution_count": 448,
     "metadata": {},
     "output_type": "execute_result"
    }
   ],
   "source": [
    "net = Net()\n",
    "net.load_state_dict(torch.load(PATH)) #Saving the model into a file"
   ]
  },
  {
   "cell_type": "code",
   "execution_count": 449,
   "id": "c2576678-1aaa-45d7-87bf-f8c0b4f784a9",
   "metadata": {},
   "outputs": [],
   "source": [
    "outputs = net(images)"
   ]
  },
  {
   "cell_type": "code",
   "execution_count": 450,
   "id": "a27552e2-f34d-4787-9fdb-d6bd2fb568ea",
   "metadata": {
    "scrolled": true
   },
   "outputs": [
    {
     "name": "stdout",
     "output_type": "stream",
     "text": [
      "Predicted:  Hey   Hey   Shin  Tav   Lamed Alef \n"
     ]
    }
   ],
   "source": [
    "_, predicted = torch.max(outputs, 1)\n",
    "\n",
    "print('Predicted: ', ' '.join(f'{map_dict[int(predicted[j])]:5s}'\n",
    "                              for j in range(batch_size)))"
   ]
  },
  {
   "cell_type": "code",
   "execution_count": 451,
   "id": "acec9821-3a6e-49c2-afba-26496236d1e1",
   "metadata": {},
   "outputs": [],
   "source": [
    "def predict_solution(outputs, batch_size, topk) : # outputs results, batch size and the top n of probabilities\n",
    "    # Rescales them so that the elements of the n-dimensional output Tensor lie in the range [0,1] and sum to 1.\n",
    "    probabilities = F.softmax(outputs, dim=1)\n",
    "\n",
    "    # Retrieve the top 3 predictions for each image\n",
    "    top_probs, top_labels = torch.topk(probabilities, topk, dim=1)\n",
    "\n",
    "    # Mapping labels to classes\n",
    "    predictions = []\n",
    "    for i in range(batch_size):\n",
    "        predictions.append([(map_dict[int(top_labels[i][j])], top_probs[i][j].item()) for j in range(topk)])\n",
    "\n",
    "    # Display predictions\n",
    "    for i, preds in enumerate(predictions):\n",
    "        print(f'Image {i+1}:')\n",
    "        for label, prob in preds:\n",
    "            print(f'  {label}: {prob*100:.2f}%')"
   ]
  },
  {
   "cell_type": "code",
   "execution_count": 452,
   "id": "acab3e07-6247-4156-a553-81d2a361059e",
   "metadata": {},
   "outputs": [
    {
     "name": "stdout",
     "output_type": "stream",
     "text": [
      "Image 1:\n",
      "  Hey: 70.83%\n",
      "  Tav: 17.14%\n",
      "  Alef: 7.46%\n",
      "  Yod: 2.72%\n",
      "  Shin: 1.28%\n",
      "Image 2:\n",
      "  Hey: 99.86%\n",
      "  Yod: 0.13%\n",
      "  Tav: 0.00%\n",
      "  Waw: 0.00%\n",
      "  Alef: 0.00%\n",
      "Image 3:\n",
      "  Shin: 99.91%\n",
      "  Yod: 0.07%\n",
      "  Alef: 0.02%\n",
      "  Hey: 0.01%\n",
      "  Tav: 0.00%\n",
      "Image 4:\n",
      "  Tav: 79.63%\n",
      "  Alef: 17.17%\n",
      "  Waw: 1.79%\n",
      "  Lamed: 0.76%\n",
      "  Yod: 0.35%\n",
      "Image 5:\n",
      "  Lamed: 99.96%\n",
      "  Shin: 0.02%\n",
      "  Tav: 0.01%\n",
      "  Hey: 0.00%\n",
      "  Yod: 0.00%\n",
      "Image 6:\n",
      "  Alef: 98.02%\n",
      "  Tav: 1.10%\n",
      "  Yod: 0.46%\n",
      "  Shin: 0.16%\n",
      "  Waw: 0.11%\n"
     ]
    }
   ],
   "source": [
    "predict_solution(outputs, batch_size, 5);"
   ]
  },
  {
   "cell_type": "code",
   "execution_count": 453,
   "id": "4200c6dc-a1ad-44ea-a40d-c83fbb44fc04",
   "metadata": {
    "scrolled": true
   },
   "outputs": [
    {
     "name": "stdout",
     "output_type": "stream",
     "text": [
      "Image 1:\n",
      "  Hey: 96.73%\n",
      "  Yod: 3.18%\n",
      "  Shin: 0.05%\n",
      "  Alef: 0.02%\n",
      "  Tav: 0.02%\n",
      "Image 1:\n",
      "  Shin: 67.93%\n",
      "  Yod: 23.55%\n",
      "  Hey: 8.07%\n",
      "  Alef: 0.39%\n",
      "  Tav: 0.05%\n"
     ]
    }
   ],
   "source": [
    "transform = transforms.Compose([\n",
    "    transforms.Resize((28, 28)),\n",
    "    transforms.ToTensor(),\n",
    "    transforms.Normalize(0.5, 0.5)\n",
    "])\n",
    "\n",
    "image = Image.open(\"test_image_1.jpg\") #Loading Image to test with the model\n",
    "image = ImageOps.invert(image.convert('L')) #Putting into a greyscale\n",
    "image = transform(image)\n",
    "image = image.unsqueeze(0)\n",
    "\n",
    "outputs2 = net(image) #Test with model\n",
    "\n",
    "predict_solution(outputs2, 1, 5) #Results\n",
    "\n",
    "image = Image.open(\"test_image_2.jpg\") #Loading Image to test with the model\n",
    "image = ImageOps.invert(image.convert('L')) #Putting into a greyscale\n",
    "image = transform(image)\n",
    "image = image.unsqueeze(0)\n",
    "\n",
    "outputs2 = net(image) #Test with model\n",
    "\n",
    "predict_solution(outputs2, 1, 5) #Results"
   ]
  },
  {
   "cell_type": "code",
   "execution_count": 454,
   "id": "78d0711e-d605-4f17-a1b1-a7189de5e8c7",
   "metadata": {},
   "outputs": [],
   "source": [
    "device = torch.device(\"cuda\" if torch.cuda.is_available() else \"cpu\")\n",
    "\n",
    "def evaluate_model(model, data_loader):\n",
    "    model.eval()\n",
    "    all_predictions = []\n",
    "    all_targets = []\n",
    "\n",
    "    with torch.no_grad():\n",
    "        for images, targets in data_loader:\n",
    "            images = images.to(device)  # Envoyer les images sur le GPU si disponible\n",
    "            targets = targets.to(device)  # Envoyer les étiquettes sur le GPU si disponible\n",
    "\n",
    "            # Faire des prédictions\n",
    "            outputs = model(images)\n",
    "            _, predictions = torch.max(outputs, 1)  # Sélectionner la classe avec la plus haute probabilité\n",
    "\n",
    "            # Collecter les prédictions et les étiquettes réelles\n",
    "            all_predictions.extend(predictions.cpu().numpy())\n",
    "            all_targets.extend(targets.cpu().numpy())\n",
    "\n",
    "    return all_predictions, all_targets\n",
    "\n",
    "# Exemple d'utilisation\n",
    "predictions, targets = evaluate_model(net, validation_loader)"
   ]
  },
  {
   "cell_type": "code",
   "execution_count": 455,
   "id": "d69d8cf0-5056-42f1-92a7-b37add0c8a5c",
   "metadata": {},
   "outputs": [
    {
     "name": "stdout",
     "output_type": "stream",
     "text": [
      "[[157   0   1   2   0   0  10]\n",
      " [  0 161   1   5   0   0   1]\n",
      " [  9   1 163   0   0   0   1]\n",
      " [ 20  41  13 103   1   1   5]\n",
      " [  0   0   2   0 185   0   0]\n",
      " [  1   0   0   0   3 119   2]\n",
      " [ 28   2   5   0   1   0 119]]\n"
     ]
    }
   ],
   "source": [
    "from sklearn.metrics import confusion_matrix\n",
    "\n",
    "# Calculer la matrice de confusion\n",
    "current_labels_num = list(dict.fromkeys(targets))\n",
    "current_labels_num.sort()\n",
    "#doc : https://scikit-learn.org/stable/modules/generated/sklearn.metrics.confusion_matrix.html\n",
    "conf_matrix = confusion_matrix(targets, predictions)\n",
    "\n",
    "# Afficher la matrice de confusion (optionnel)\n",
    "print(conf_matrix)"
   ]
  },
  {
   "cell_type": "code",
   "execution_count": 456,
   "id": "37f82ac8-f828-4c7a-a6eb-f781217fa5ae",
   "metadata": {},
   "outputs": [
    {
     "data": {
      "image/png": "[encoded data removed]",
      "text/plain": [
       "<Figure size 1000x800 with 2 Axes>"
      ]
     },
     "metadata": {},
     "output_type": "display_data"
    }
   ],
   "source": [
    "import matplotlib.pyplot as plt\n",
    "import seaborn as sns\n",
    "import numpy as np\n",
    "\n",
    "# Définir les noms de classe (étiquettes)\n",
    "current_labels_num = list(dict.fromkeys(targets))\n",
    "current_labels_num.sort()\n",
    "output_list = [map_dict.get(label, 'unknown') for label in current_labels_num]\n",
    "classes = output_list\n",
    "\n",
    "# Afficher la matrice de confusion avec seaborn\n",
    "plt.figure(figsize=(10, 8))\n",
    "sns.heatmap(conf_matrix, annot=True, fmt='d', cmap='Blues', xticklabels=classes, yticklabels=classes)\n",
    "plt.xlabel('Predicted Labels')\n",
    "plt.ylabel('True Labels')\n",
    "plt.title('Confusion Matrix')\n",
    "plt.show()"
   ]
  },
  {
   "cell_type": "code",
   "execution_count": 457,
   "id": "f0227477-787c-4de1-afee-acb83b37f54a",
   "metadata": {},
   "outputs": [
    {
     "data": {
      "text/plain": [
       "'\\nBarlow utilization\\n\\nSrc : https://github.com/MaxLikesMath/Barlow-Twins-Pytorch/tree/main\\nhttps://arxiv.org/pdf/2103.03230\\n'"
      ]
     },
     "execution_count": 457,
     "metadata": {},
     "output_type": "execute_result"
    }
   ],
   "source": [
    "\"\"\"\n",
    "Barlow utilization\n",
    "\n",
    "Src : https://github.com/MaxLikesMath/Barlow-Twins-Pytorch/tree/main\n",
    "https://arxiv.org/pdf/2103.03230\n",
    "\"\"\""
   ]
  },
  {
   "cell_type": "code",
   "execution_count": 458,
   "id": "cfb0b743-fea6-4889-a16a-8965f10d99da",
   "metadata": {},
   "outputs": [],
   "source": [
    "class NetCompForBarlow(nn.Module):\n",
    "    def __init__(self):\n",
    "        super(NetCompForBarlow, self).__init__()\n",
    "        self.conv1 = nn.Conv2d(1, 6, 5)\n",
    "        self.pool = nn.MaxPool2d(2, 2)\n",
    "        self.conv2 = nn.Conv2d(6, 16, 5)\n",
    "        self.fc1 = nn.Linear(16 * 4 * 4, 120)\n",
    "        self.fc2 = nn.Linear(120, 84)\n",
    "        self.fc3 = nn.Linear(84, 22)  # Assuming 22 classes\n",
    "\n",
    "    def forward(self, x):\n",
    "        x = self.pool(F.relu(self.conv1(x)))\n",
    "        x = self.pool(F.relu(self.conv2(x)))\n",
    "        x = torch.flatten(x, 1)\n",
    "        x = F.relu(self.fc1(x))\n",
    "        representation = F.relu(self.fc2(x))\n",
    "        return representation, self.fc3(representation)\n",
    "\n",
    "# Instantiate the neural network\n",
    "net = NetCompForBarlow()"
   ]
  },
  {
   "cell_type": "code",
   "execution_count": 464,
   "id": "afee8cbf-2df7-42a2-badd-22975e829f7a",
   "metadata": {},
   "outputs": [],
   "source": [
    "def off_diagonal(x):\n",
    "    res = x.clone()\n",
    "    res.diagonal(dim1=-1, dim2=-2).zero_()\n",
    "    return res\n",
    "\n",
    "class BarlowTwinsLoss(nn.Module):\n",
    "    def __init__(self, lambd=5e-3, scale_factor=1):\n",
    "        super(BarlowTwinsLoss, self).__init__()\n",
    "        self.lambd = lambd\n",
    "        self.scale_factor = scale_factor\n",
    "\n",
    "    def forward(self, z1, z2):\n",
    "        N, D = z1.size()\n",
    "        \n",
    "        # Normalize the embeddings along the batch dimension\n",
    "        z1_norm = (z1 - z1.mean(0)) / (z1.std(0))\n",
    "        z2_norm = (z2 - z2.mean(0)) / (z2.std(0))\n",
    "        \n",
    "        # Compute the cross-correlation matrix\n",
    "        c = torch.mm(z1_norm.T, z2_norm) / N\n",
    "\n",
    "        # loss\n",
    "        c_diff = (c - torch.eye(D, device=c.device)).pow(2)\n",
    "        c_diff = off_diagonal(c_diff) * self.lambd\n",
    "        loss = c_diff.sum()\n",
    "        \n",
    "        return loss"
   ]
  },
  {
   "cell_type": "code",
   "execution_count": 465,
   "id": "ecb0f6aa-52ed-48d0-a803-160ce29f7ab9",
   "metadata": {},
   "outputs": [],
   "source": [
    "train_images_file = \"dataset/train-images-idx3-ubyte\"\n",
    "train_labels_file = \"dataset/train-labels-idx1-ubyte\"\n",
    "validation_images_file = \"dataset/validation-images-idx3-ubyte\"\n",
    "validation_labels_file = \"dataset/validation-labels-idx1-ubyte\"\n",
    "\n",
    "batch_size = 6 # number of samples (images and their corresponding labels) to be loaded and processed together for each iteration of training or model validation\n",
    "\n",
    "transform = transforms.Compose(\n",
    "    [transforms.ToTensor(),\n",
    "     transforms.Normalize(0.5, 0.5)])\n",
    "\n",
    "train_set = CustomDataset(train_images_file, train_labels_file, transform=transform) # Loading Dataset Training\n",
    "validation_set = CustomDataset(validation_images_file, validation_labels_file, transform=transform) # Loading Dataset Validation\n",
    "\n",
    "validation_loader = DataLoader(validation_set, batch_size=batch_size, shuffle=True) # Shuffle Dataset Validation and divide into batches\n",
    "train_loader = DataLoader(train_set, batch_size=batch_size, shuffle=True) # Shuffle Dataset Training and divide into batches"
   ]
  },
  {
   "cell_type": "code",
   "execution_count": 466,
   "id": "404e478a-b4be-4a0b-a4ba-5bad5db40df5",
   "metadata": {},
   "outputs": [],
   "source": [
    "from torchvision.transforms import v2\n",
    "\n",
    "augmentation = transforms.Compose([\n",
    "    transforms.ToPILImage(),\n",
    "    v2.RandomRotation(degrees=15),\n",
    "    v2.RandomZoomOut(fill=0, side_range=(1, 2), p=0.5),\n",
    "    transforms.Resize(28),\n",
    "    transforms.ToTensor(),\n",
    "    transforms.Normalize(0.5, 0.5)\n",
    "])"
   ]
  },
  {
   "cell_type": "code",
   "execution_count": 467,
   "id": "4a88e494-8187-4778-a7a0-fa4384bf20b7",
   "metadata": {},
   "outputs": [],
   "source": [
    "# Define the loss function\n",
    "criterion = BarlowTwinsLoss()\n",
    "\n",
    "# Define the optimizer\n",
    "optimizer = optim.SGD(net.parameters(), lr=0.001, momentum=0.9)"
   ]
  },
  {
   "cell_type": "code",
   "execution_count": 484,
   "id": "8592cde6-9f44-4c5f-821d-c28198013c14",
   "metadata": {},
   "outputs": [
    {
     "name": "stdout",
     "output_type": "stream",
     "text": [
      "Epoch [1] loss: 0.339\n",
      "Average Cosine Similarity: 0.8668\n",
      "Epoch [2] loss: 0.328\n",
      "Average Cosine Similarity: 0.8715\n",
      "Epoch [3] loss: 0.334\n",
      "Average Cosine Similarity: 0.8794\n",
      "Epoch [4] loss: 0.344\n",
      "Average Cosine Similarity: 0.8822\n",
      "Epoch [5] loss: 0.344\n",
      "Average Cosine Similarity: 0.8665\n",
      "Epoch [6] loss: 0.340\n",
      "Average Cosine Similarity: 0.8562\n",
      "Epoch [7] loss: 0.324\n",
      "Average Cosine Similarity: 0.8474\n",
      "Epoch [8] loss: 0.335\n",
      "Average Cosine Similarity: 0.8371\n"
     ]
    },
    {
     "ename": "KeyboardInterrupt",
     "evalue": "",
     "output_type": "error",
     "traceback": [
      "\u001b[1;31m---------------------------------------------------------------------------\u001b[0m",
      "\u001b[1;31mKeyboardInterrupt\u001b[0m                         Traceback (most recent call last)",
      "Cell \u001b[1;32mIn[484], line 17\u001b[0m\n\u001b[0;32m     14\u001b[0m \u001b[38;5;28;01massert\u001b[39;00m \u001b[38;5;129;01mnot\u001b[39;00m torch\u001b[38;5;241m.\u001b[39misinf(inputs)\u001b[38;5;241m.\u001b[39many(), \u001b[38;5;124m\"\u001b[39m\u001b[38;5;124mLes entrées contiennent des valeurs infinies\u001b[39m\u001b[38;5;124m\"\u001b[39m\n\u001b[0;32m     16\u001b[0m \u001b[38;5;66;03m# Apply augmentations individually to each image in the batch\u001b[39;00m\n\u001b[1;32m---> 17\u001b[0m y_a \u001b[38;5;241m=\u001b[39m torch\u001b[38;5;241m.\u001b[39mstack([augmentation(img) \u001b[38;5;28;01mfor\u001b[39;00m img \u001b[38;5;129;01min\u001b[39;00m inputs])\n\u001b[0;32m     18\u001b[0m y_b \u001b[38;5;241m=\u001b[39m torch\u001b[38;5;241m.\u001b[39mstack([augmentation(img) \u001b[38;5;28;01mfor\u001b[39;00m img \u001b[38;5;129;01min\u001b[39;00m inputs])\n\u001b[0;32m     20\u001b[0m \u001b[38;5;28;01massert\u001b[39;00m \u001b[38;5;129;01mnot\u001b[39;00m torch\u001b[38;5;241m.\u001b[39misnan(aug1)\u001b[38;5;241m.\u001b[39many(), \u001b[38;5;124m\"\u001b[39m\u001b[38;5;124mLes augmentations aug1 contiennent NaN\u001b[39m\u001b[38;5;124m\"\u001b[39m\n",
      "Cell \u001b[1;32mIn[484], line 17\u001b[0m, in \u001b[0;36m<listcomp>\u001b[1;34m(.0)\u001b[0m\n\u001b[0;32m     14\u001b[0m \u001b[38;5;28;01massert\u001b[39;00m \u001b[38;5;129;01mnot\u001b[39;00m torch\u001b[38;5;241m.\u001b[39misinf(inputs)\u001b[38;5;241m.\u001b[39many(), \u001b[38;5;124m\"\u001b[39m\u001b[38;5;124mLes entrées contiennent des valeurs infinies\u001b[39m\u001b[38;5;124m\"\u001b[39m\n\u001b[0;32m     16\u001b[0m \u001b[38;5;66;03m# Apply augmentations individually to each image in the batch\u001b[39;00m\n\u001b[1;32m---> 17\u001b[0m y_a \u001b[38;5;241m=\u001b[39m torch\u001b[38;5;241m.\u001b[39mstack([\u001b[43maugmentation\u001b[49m\u001b[43m(\u001b[49m\u001b[43mimg\u001b[49m\u001b[43m)\u001b[49m \u001b[38;5;28;01mfor\u001b[39;00m img \u001b[38;5;129;01min\u001b[39;00m inputs])\n\u001b[0;32m     18\u001b[0m y_b \u001b[38;5;241m=\u001b[39m torch\u001b[38;5;241m.\u001b[39mstack([augmentation(img) \u001b[38;5;28;01mfor\u001b[39;00m img \u001b[38;5;129;01min\u001b[39;00m inputs])\n\u001b[0;32m     20\u001b[0m \u001b[38;5;28;01massert\u001b[39;00m \u001b[38;5;129;01mnot\u001b[39;00m torch\u001b[38;5;241m.\u001b[39misnan(aug1)\u001b[38;5;241m.\u001b[39many(), \u001b[38;5;124m\"\u001b[39m\u001b[38;5;124mLes augmentations aug1 contiennent NaN\u001b[39m\u001b[38;5;124m\"\u001b[39m\n",
      "File \u001b[1;32m~\\AppData\\Local\\Programs\\Python\\Python310\\lib\\site-packages\\torchvision\\transforms\\transforms.py:95\u001b[0m, in \u001b[0;36mCompose.__call__\u001b[1;34m(self, img)\u001b[0m\n\u001b[0;32m     93\u001b[0m \u001b[38;5;28;01mdef\u001b[39;00m \u001b[38;5;21m__call__\u001b[39m(\u001b[38;5;28mself\u001b[39m, img):\n\u001b[0;32m     94\u001b[0m     \u001b[38;5;28;01mfor\u001b[39;00m t \u001b[38;5;129;01min\u001b[39;00m \u001b[38;5;28mself\u001b[39m\u001b[38;5;241m.\u001b[39mtransforms:\n\u001b[1;32m---> 95\u001b[0m         img \u001b[38;5;241m=\u001b[39m \u001b[43mt\u001b[49m\u001b[43m(\u001b[49m\u001b[43mimg\u001b[49m\u001b[43m)\u001b[49m\n\u001b[0;32m     96\u001b[0m     \u001b[38;5;28;01mreturn\u001b[39;00m img\n",
      "File \u001b[1;32m~\\AppData\\Local\\Programs\\Python\\Python310\\lib\\site-packages\\torch\\nn\\modules\\module.py:1532\u001b[0m, in \u001b[0;36mModule._wrapped_call_impl\u001b[1;34m(self, *args, **kwargs)\u001b[0m\n\u001b[0;32m   1530\u001b[0m     \u001b[38;5;28;01mreturn\u001b[39;00m \u001b[38;5;28mself\u001b[39m\u001b[38;5;241m.\u001b[39m_compiled_call_impl(\u001b[38;5;241m*\u001b[39margs, \u001b[38;5;241m*\u001b[39m\u001b[38;5;241m*\u001b[39mkwargs)  \u001b[38;5;66;03m# type: ignore[misc]\u001b[39;00m\n\u001b[0;32m   1531\u001b[0m \u001b[38;5;28;01melse\u001b[39;00m:\n\u001b[1;32m-> 1532\u001b[0m     \u001b[38;5;28;01mreturn\u001b[39;00m \u001b[38;5;28mself\u001b[39m\u001b[38;5;241m.\u001b[39m_call_impl(\u001b[38;5;241m*\u001b[39margs, \u001b[38;5;241m*\u001b[39m\u001b[38;5;241m*\u001b[39mkwargs)\n",
      "File \u001b[1;32m~\\AppData\\Local\\Programs\\Python\\Python310\\lib\\site-packages\\torch\\nn\\modules\\module.py:1541\u001b[0m, in \u001b[0;36mModule._call_impl\u001b[1;34m(self, *args, **kwargs)\u001b[0m\n\u001b[0;32m   1536\u001b[0m \u001b[38;5;66;03m# If we don't have any hooks, we want to skip the rest of the logic in\u001b[39;00m\n\u001b[0;32m   1537\u001b[0m \u001b[38;5;66;03m# this function, and just call forward.\u001b[39;00m\n\u001b[0;32m   1538\u001b[0m \u001b[38;5;28;01mif\u001b[39;00m \u001b[38;5;129;01mnot\u001b[39;00m (\u001b[38;5;28mself\u001b[39m\u001b[38;5;241m.\u001b[39m_backward_hooks \u001b[38;5;129;01mor\u001b[39;00m \u001b[38;5;28mself\u001b[39m\u001b[38;5;241m.\u001b[39m_backward_pre_hooks \u001b[38;5;129;01mor\u001b[39;00m \u001b[38;5;28mself\u001b[39m\u001b[38;5;241m.\u001b[39m_forward_hooks \u001b[38;5;129;01mor\u001b[39;00m \u001b[38;5;28mself\u001b[39m\u001b[38;5;241m.\u001b[39m_forward_pre_hooks\n\u001b[0;32m   1539\u001b[0m         \u001b[38;5;129;01mor\u001b[39;00m _global_backward_pre_hooks \u001b[38;5;129;01mor\u001b[39;00m _global_backward_hooks\n\u001b[0;32m   1540\u001b[0m         \u001b[38;5;129;01mor\u001b[39;00m _global_forward_hooks \u001b[38;5;129;01mor\u001b[39;00m _global_forward_pre_hooks):\n\u001b[1;32m-> 1541\u001b[0m     \u001b[38;5;28;01mreturn\u001b[39;00m forward_call(\u001b[38;5;241m*\u001b[39margs, \u001b[38;5;241m*\u001b[39m\u001b[38;5;241m*\u001b[39mkwargs)\n\u001b[0;32m   1543\u001b[0m \u001b[38;5;28;01mtry\u001b[39;00m:\n\u001b[0;32m   1544\u001b[0m     result \u001b[38;5;241m=\u001b[39m \u001b[38;5;28;01mNone\u001b[39;00m\n",
      "File \u001b[1;32m~\\AppData\\Local\\Programs\\Python\\Python310\\lib\\site-packages\\torchvision\\transforms\\v2\\_transform.py:167\u001b[0m, in \u001b[0;36m_RandomApplyTransform.forward\u001b[1;34m(self, *inputs)\u001b[0m\n\u001b[0;32m    164\u001b[0m     \u001b[38;5;28;01mreturn\u001b[39;00m inputs\n\u001b[0;32m    166\u001b[0m needs_transform_list \u001b[38;5;241m=\u001b[39m \u001b[38;5;28mself\u001b[39m\u001b[38;5;241m.\u001b[39m_needs_transform_list(flat_inputs)\n\u001b[1;32m--> 167\u001b[0m params \u001b[38;5;241m=\u001b[39m \u001b[38;5;28;43mself\u001b[39;49m\u001b[38;5;241;43m.\u001b[39;49m\u001b[43m_get_params\u001b[49m\u001b[43m(\u001b[49m\n\u001b[0;32m    168\u001b[0m \u001b[43m    \u001b[49m\u001b[43m[\u001b[49m\u001b[43minpt\u001b[49m\u001b[43m \u001b[49m\u001b[38;5;28;43;01mfor\u001b[39;49;00m\u001b[43m \u001b[49m\u001b[43m(\u001b[49m\u001b[43minpt\u001b[49m\u001b[43m,\u001b[49m\u001b[43m \u001b[49m\u001b[43mneeds_transform\u001b[49m\u001b[43m)\u001b[49m\u001b[43m \u001b[49m\u001b[38;5;129;43;01min\u001b[39;49;00m\u001b[43m \u001b[49m\u001b[38;5;28;43mzip\u001b[39;49m\u001b[43m(\u001b[49m\u001b[43mflat_inputs\u001b[49m\u001b[43m,\u001b[49m\u001b[43m \u001b[49m\u001b[43mneeds_transform_list\u001b[49m\u001b[43m)\u001b[49m\u001b[43m \u001b[49m\u001b[38;5;28;43;01mif\u001b[39;49;00m\u001b[43m \u001b[49m\u001b[43mneeds_transform\u001b[49m\u001b[43m]\u001b[49m\n\u001b[0;32m    169\u001b[0m \u001b[43m\u001b[49m\u001b[43m)\u001b[49m\n\u001b[0;32m    171\u001b[0m flat_outputs \u001b[38;5;241m=\u001b[39m [\n\u001b[0;32m    172\u001b[0m     \u001b[38;5;28mself\u001b[39m\u001b[38;5;241m.\u001b[39m_transform(inpt, params) \u001b[38;5;28;01mif\u001b[39;00m needs_transform \u001b[38;5;28;01melse\u001b[39;00m inpt\n\u001b[0;32m    173\u001b[0m     \u001b[38;5;28;01mfor\u001b[39;00m (inpt, needs_transform) \u001b[38;5;129;01min\u001b[39;00m \u001b[38;5;28mzip\u001b[39m(flat_inputs, needs_transform_list)\n\u001b[0;32m    174\u001b[0m ]\n\u001b[0;32m    176\u001b[0m \u001b[38;5;28;01mreturn\u001b[39;00m tree_unflatten(flat_outputs, spec)\n",
      "File \u001b[1;32m~\\AppData\\Local\\Programs\\Python\\Python310\\lib\\site-packages\\torchvision\\transforms\\v2\\_geometry.py:526\u001b[0m, in \u001b[0;36m_get_params\u001b[1;34m(self, flat_inputs)\u001b[0m\n",
      "\u001b[1;31mKeyboardInterrupt\u001b[0m: "
     ]
    }
   ],
   "source": [
    "from sklearn.metrics.pairwise import cosine_similarity\n",
    "\n",
    "average_cosine_similarities = []\n",
    "\n",
    "for epoch in range(50):\n",
    "    net.train()\n",
    "    running_loss = 0.0\n",
    "    all_cosine_similarities = []\n",
    "\n",
    "    for i, data in enumerate(train_loader, 0):\n",
    "        inputs, labels = data\n",
    "\n",
    "        assert not torch.isnan(inputs).any(), \"Les entrées contiennent NaN\"\n",
    "        assert not torch.isinf(inputs).any(), \"Les entrées contiennent des valeurs infinies\"\n",
    "\n",
    "        # Apply augmentations individually to each image in the batch\n",
    "        y_a = torch.stack([augmentation(img) for img in inputs])\n",
    "        y_b = torch.stack([augmentation(img) for img in inputs])\n",
    "\n",
    "        assert not torch.isnan(aug1).any(), \"Les augmentations aug1 contiennent NaN\"\n",
    "        assert not torch.isinf(aug1).any(), \"Les augmentations aug1 contiennent des valeurs infinies\"\n",
    "        assert not torch.isnan(aug2).any(), \"Les augmentations aug2 contiennent NaN\"\n",
    "        assert not torch.isinf(aug2).any(), \"Les augmentations aug2 contiennent des valeurs infinies\"\n",
    "\n",
    "        # Zero the parameter gradients\n",
    "        optimizer.zero_grad()\n",
    "\n",
    "        # Forward passes\n",
    "        _, z1 = net(y_a)\n",
    "        _, z2 = net(y_b)\n",
    "\n",
    "        assert not torch.isnan(z1).any(), \"Les sorties z1 contiennent NaN\"\n",
    "        assert not torch.isinf(z1).any(), \"Les sorties z1 contiennent des valeurs infinies\"\n",
    "        assert not torch.isnan(z2).any(), \"Les sorties z2 contiennent NaN\"\n",
    "        assert not torch.isinf(z2).any(), \"Les sorties z2 contiennent des valeurs infinies\"\n",
    "        \n",
    "        # Compute loss\n",
    "        loss = criterion(z1, z2)\n",
    "\n",
    "        assert not torch.isnan(loss).any(), \"La perte contient NaN\"\n",
    "        assert not torch.isinf(loss).any(), \"La perte contient des valeurs infinies\"\n",
    "        \n",
    "        loss.backward()\n",
    "        optimizer.step()\n",
    "        running_loss += loss.item()\n",
    "\n",
    "        z1_np = z1.detach().numpy()\n",
    "        z2_np = z2.detach().numpy()\n",
    "\n",
    "        # Calculate cosine similarities batch-wise\n",
    "        batch_cosine_similarities = cosine_similarity(z1_np, z2_np)\n",
    "\n",
    "        # Compute average cosine similarity for this batch\n",
    "        average_batch_cosine_similarity = np.mean(batch_cosine_similarities)\n",
    "        average_cosine_similarities.append(average_batch_cosine_similarity)\n",
    "\n",
    "    average_loss = running_loss / len(train_loader)\n",
    "    average_cosine_similarity = np.mean(average_cosine_similarities)\n",
    "    \n",
    "    print(f'Epoch [{epoch + 1}] loss: {average_loss:.3f}')\n",
    "    print(f'Average Cosine Similarity: {average_cosine_similarity:.4f}')\n",
    "\n",
    "print('Finished Training')\n",
    "\n",
    "PATH = './barlow_twins_cnn.pth'\n",
    "torch.save(model.state_dict(), PATH)"
   ]
  },
  {
   "cell_type": "code",
   "execution_count": null,
   "id": "a08e963e-ed0e-497c-a890-b015cf3cda4c",
   "metadata": {},
   "outputs": [],
   "source": [
    "device = torch.device(\"cuda\" if torch.cuda.is_available() else \"cpu\")\n",
    "\n",
    "def evaluate_model(model, data_loader):\n",
    "    model.eval()\n",
    "    all_predictions = []\n",
    "    all_targets = []\n",
    "\n",
    "    with torch.no_grad():\n",
    "        for images, targets in data_loader:\n",
    "            images = images.to(device)  # Envoyer les images sur le GPU si disponible\n",
    "            targets = targets.to(device)  # Envoyer les étiquettes sur le GPU si disponible\n",
    "\n",
    "            # Faire des prédictions\n",
    "            _, outputs = model(images)\n",
    "            _, predictions = torch.max(outputs, 1)  # Sélectionner la classe avec la plus haute probabilité\n",
    "\n",
    "            # Collecter les prédictions et les étiquettes réelles\n",
    "            all_predictions.extend(predictions.cpu().numpy())\n",
    "            all_targets.extend(targets.cpu().numpy())\n",
    "\n",
    "    return all_predictions, all_targets\n",
    "\n",
    "# Exemple d'utilisation\n",
    "predictions, targets = evaluate_model(net, validation_loader)"
   ]
  },
  {
   "cell_type": "code",
   "execution_count": null,
   "id": "ed3933bf-4c0e-4e65-a878-e864b1f95ed6",
   "metadata": {},
   "outputs": [],
   "source": [
    "from sklearn.metrics import confusion_matrix\n",
    "\n",
    "# Calculer la matrice de confusion\n",
    "current_labels_num = list(dict.fromkeys(targets))\n",
    "current_labels_num.sort()\n",
    "#doc : https://scikit-learn.org/stable/modules/generated/sklearn.metrics.confusion_matrix.html\n",
    "conf_matrix = confusion_matrix(targets, predictions)\n",
    "\n",
    "# Afficher la matrice de confusion (optionnel)\n",
    "print(conf_matrix)"
   ]
  },
  {
   "cell_type": "code",
   "execution_count": null,
   "id": "0a8c0cd0-d279-4807-9225-c242bb174f01",
   "metadata": {},
   "outputs": [],
   "source": [
    "import matplotlib.pyplot as plt\n",
    "import seaborn as sns\n",
    "import numpy as np\n",
    "\n",
    "# Définir les noms de classe (étiquettes)\n",
    "current_labels_num = list(dict.fromkeys(targets))\n",
    "current_labels_num.sort()\n",
    "output_list = [map_dict.get(label, 'unknown') for label in current_labels_num]\n",
    "classes = output_list\n",
    "\n",
    "# Afficher la matrice de confusion avec seaborn\n",
    "plt.figure(figsize=(10, 8))\n",
    "sns.heatmap(conf_matrix, annot=True, fmt='d', cmap='Blues', xticklabels=classes, yticklabels=classes)\n",
    "plt.xlabel('Predicted Labels')\n",
    "plt.ylabel('True Labels')\n",
    "plt.title('Confusion Matrix')\n",
    "plt.show()"
   ]
  }
 ],
 "metadata": {
  "kernelspec": {
   "display_name": "Python 3 (ipykernel)",
   "language": "python",
   "name": "python3"
  },
  "language_info": {
   "codemirror_mode": {
    "name": "ipython",
    "version": 3
   },
   "file_extension": ".py",
   "mimetype": "text/x-python",
   "name": "python",
   "nbconvert_exporter": "python",
   "pygments_lexer": "ipython3",
   "version": "3.10.2"
  }
 },
 "nbformat": 4,
 "nbformat_minor": 5
}
