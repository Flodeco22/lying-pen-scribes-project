{
 "cells": [
  {
   "cell_type": "code",
   "execution_count": 146,
   "id": "63538798-507b-476d-9ac6-ff53757f8296",
   "metadata": {},
   "outputs": [],
   "source": [
    "import torch\n",
    "import torchvision\n",
    "import torchvision.transforms as transforms\n",
    "from torch.utils.data import Dataset, DataLoader\n",
    "import numpy as np\n",
    "import matplotlib.pyplot as plt\n",
    "from PIL import Image, ImageOps"
   ]
  },
  {
   "cell_type": "code",
   "execution_count": 147,
   "id": "3c2c6a42-59be-4749-a0a9-9b5ba7b5e355",
   "metadata": {},
   "outputs": [],
   "source": [
    "class CustomDataset(Dataset):\n",
    "    def __init__(self, images_file, labels_file, transform=None):\n",
    "        self.images = self.load_images(images_file)\n",
    "        self.labels = self.load_labels(labels_file)\n",
    "        self.transform = transform\n",
    "\n",
    "    def __len__(self):\n",
    "        return len(self.labels)\n",
    "\n",
    "    def __getitem__(self, idx):\n",
    "        image = self.images[idx]\n",
    "        label = self.labels[idx]\n",
    "        if self.transform:\n",
    "            image = self.transform(image)\n",
    "        return image, label\n",
    "\n",
    "    def load_images(self, file_path):\n",
    "        with open(file_path, 'rb') as f:\n",
    "            data = np.frombuffer(f.read(), dtype=np.uint8, offset=16)  # Skip first 16 bytes\n",
    "        num_images = len(data) // (28 * 28)\n",
    "        data = data.reshape(num_images, 28, 28)\n",
    "        return data.copy()  # Ensure the array is writable\n",
    "\n",
    "    def load_labels(self, file_path):\n",
    "        with open(file_path, 'rb') as f:\n",
    "            data = np.frombuffer(f.read(), dtype=np.uint8, offset=8)  # Skip first 8 bytes\n",
    "        return data"
   ]
  },
  {
   "cell_type": "code",
   "execution_count": 148,
   "id": "5e90cb72-05ee-4af2-b7da-f6e025f47ea1",
   "metadata": {},
   "outputs": [
    {
     "data": {
      "text/plain": [
       "\"\\ntrain_set = torchvision.datasets.MNIST(root='./data', train=True,\\n                                        download=True, transform=transform)\\nvalidation_set = torchvision.datasets.MNIST(root='./data', train=False,\\n                                        download=True, transform=transform)\\n\\nvalidation_loader = torch.utils.data.DataLoader(validation_set, batch_size=batch_size,\\n                                         shuffle=False, num_workers=2)\\ntrain_loader = torch.utils.data.DataLoader(train_set, batch_size=batch_size,\\n                                          shuffle=True, num_workers=2)\\n\""
      ]
     },
     "execution_count": 148,
     "metadata": {},
     "output_type": "execute_result"
    }
   ],
   "source": [
    "train_images_file = \"dataset/train-images-idx3-ubyte\"\n",
    "train_labels_file = \"dataset/train-labels-idx1-ubyte\"\n",
    "validation_images_file = \"dataset/validation-images-idx3-ubyte\"\n",
    "validation_labels_file = \"dataset/validation-labels-idx1-ubyte\"\n",
    "\n",
    "batch_size = 6\n",
    "\n",
    "transform = transforms.Compose(\n",
    "    [transforms.ToTensor(),\n",
    "     transforms.Normalize(0.5, 0.5)])\n",
    "\n",
    "train_set = CustomDataset(train_images_file, train_labels_file, transform=transform)\n",
    "validation_set = CustomDataset(validation_images_file, validation_labels_file, transform=transform)\n",
    "\n",
    "validation_loader = DataLoader(validation_set, batch_size=batch_size, shuffle=True)\n",
    "train_loader = DataLoader(train_set, batch_size=batch_size, shuffle=True)\n",
    "\n",
    "'''\n",
    "train_set = torchvision.datasets.MNIST(root='./data', train=True,\n",
    "                                        download=True, transform=transform)\n",
    "validation_set = torchvision.datasets.MNIST(root='./data', train=False,\n",
    "                                        download=True, transform=transform)\n",
    "\n",
    "validation_loader = torch.utils.data.DataLoader(validation_set, batch_size=batch_size,\n",
    "                                         shuffle=False, num_workers=2)\n",
    "train_loader = torch.utils.data.DataLoader(train_set, batch_size=batch_size,\n",
    "                                          shuffle=True, num_workers=2)\n",
    "'''"
   ]
  },
  {
   "cell_type": "code",
   "execution_count": 149,
   "id": "36f570c1-a909-4fbb-acf4-cb6f5115d4ae",
   "metadata": {},
   "outputs": [
    {
     "name": "stdout",
     "output_type": "stream",
     "text": [
      "Alef\n"
     ]
    },
    {
     "data": {
      "text/plain": [
       "'\\nmap_dict = {0: \"0\", 1: \"1\", 2: \"2\", 3: \"3\", 4: \"4\", 5: \"5\", 6: \"6\", 7: \"7\", 8: \"8\", 9: \"9\"}\\nprint(map_dict[0])\\n'"
      ]
     },
     "execution_count": 149,
     "metadata": {},
     "output_type": "execute_result"
    }
   ],
   "source": [
    "with open('dictionnary_labels.txt', 'r') as file:\n",
    "    lines = file.readlines()\n",
    "\n",
    "map_dict = {}\n",
    "\n",
    "for line in lines:\n",
    "    line = line.strip()\n",
    "    key, value = line.split('_')\n",
    "    map_dict[int(key) - 1] = value\n",
    "\n",
    "print(map_dict[0])\n",
    "\n",
    "\"\"\"\n",
    "map_dict = {0: \"0\", 1: \"1\", 2: \"2\", 3: \"3\", 4: \"4\", 5: \"5\", 6: \"6\", 7: \"7\", 8: \"8\", 9: \"9\"}\n",
    "print(map_dict[0])\n",
    "\"\"\""
   ]
  },
  {
   "cell_type": "code",
   "execution_count": 150,
   "id": "2fca3b1e-cc26-4b4e-ade0-2bc6df303ffc",
   "metadata": {},
   "outputs": [
    {
     "data": {
      "image/png": "[encoded data removed]",
      "text/plain": [
       "<Figure size 640x480 with 1 Axes>"
      ]
     },
     "metadata": {},
     "output_type": "display_data"
    },
    {
     "name": "stdout",
     "output_type": "stream",
     "text": [
      "Waw   Alef  Waw   Tav   Alef  Yod  \n"
     ]
    }
   ],
   "source": [
    "def imshow(img):\n",
    "    img = img / 2 + 0.5     # unnormalize\n",
    "    npimg = img.numpy()\n",
    "    plt.imshow(np.transpose(npimg, (1, 2, 0)))\n",
    "    plt.show()\n",
    "\n",
    "\n",
    "# get some random training images\n",
    "dataiter = iter(train_loader)\n",
    "images, labels = next(dataiter)\n",
    "\n",
    "# show images\n",
    "imshow(torchvision.utils.make_grid(images))\n",
    "# print labels\n",
    "print(' '.join(f'{map_dict[int(labels[j])]:5s}' for j in range(batch_size)))"
   ]
  },
  {
   "cell_type": "code",
   "execution_count": 151,
   "id": "85384a0e-ff5e-42cc-9fc5-e7a4b2258962",
   "metadata": {},
   "outputs": [],
   "source": [
    "import torch.nn as nn\n",
    "import torch.nn.functional as F\n",
    "\n",
    "\n",
    "class Net(nn.Module):\n",
    "    def __init__(self):\n",
    "        super().__init__()\n",
    "        self.conv1 = nn.Conv2d(1, 6, 5)\n",
    "        self.pool = nn.MaxPool2d(2, 2)\n",
    "        self.conv2 = nn.Conv2d(6, 16, 5)\n",
    "        self.fc1 = nn.Linear(16 * 4 * 4, 120)\n",
    "        self.fc2 = nn.Linear(120, 84)\n",
    "        self.fc3 = nn.Linear(84, 22)\n",
    "\n",
    "    def forward(self, x):\n",
    "        x = self.pool(F.relu(self.conv1(x)))\n",
    "        x = self.pool(F.relu(self.conv2(x)))\n",
    "        x = torch.flatten(x, 1) # flatten all dimensions except batch\n",
    "        x = F.relu(self.fc1(x))\n",
    "        x = F.relu(self.fc2(x))\n",
    "        x = self.fc3(x)\n",
    "        return x\n",
    "\n",
    "net = Net()"
   ]
  },
  {
   "cell_type": "code",
   "execution_count": 152,
   "id": "2be74d6b-a886-4ed1-aea4-aa9086d391b1",
   "metadata": {},
   "outputs": [],
   "source": [
    "import torch.optim as optim\n",
    "\n",
    "criterion = nn.CrossEntropyLoss()\n",
    "optimizer = optim.SGD(net.parameters(), lr=0.001, momentum=0.9)"
   ]
  },
  {
   "cell_type": "code",
   "execution_count": 153,
   "id": "ffba5c29-9a42-4ddf-bab9-7c97536ab3ab",
   "metadata": {},
   "outputs": [
    {
     "name": "stdout",
     "output_type": "stream",
     "text": [
      "[1,     1] loss: 1.548\n",
      "[1,    12] loss: 17.058\n",
      "[1,    23] loss: 16.911\n",
      "[1,    34] loss: 16.824\n",
      "[1,    45] loss: 16.634\n",
      "[1,    56] loss: 16.523\n",
      "[2,     1] loss: 1.484\n",
      "[2,    12] loss: 16.290\n",
      "[2,    23] loss: 16.055\n",
      "[2,    34] loss: 15.884\n",
      "[2,    45] loss: 15.557\n",
      "[2,    56] loss: 15.181\n",
      "[3,     1] loss: 1.326\n",
      "[3,    12] loss: 13.609\n",
      "[3,    23] loss: 12.359\n",
      "[3,    34] loss: 11.035\n",
      "[3,    45] loss: 10.917\n",
      "[3,    56] loss: 9.863\n",
      "[4,     1] loss: 0.839\n",
      "[4,    12] loss: 10.371\n",
      "[4,    23] loss: 9.481\n",
      "[4,    34] loss: 9.029\n",
      "[4,    45] loss: 8.262\n",
      "[4,    56] loss: 8.008\n",
      "[5,     1] loss: 0.945\n",
      "[5,    12] loss: 7.968\n",
      "[5,    23] loss: 7.746\n",
      "[5,    34] loss: 6.629\n",
      "[5,    45] loss: 6.454\n",
      "[5,    56] loss: 5.724\n",
      "[6,     1] loss: 0.539\n",
      "[6,    12] loss: 6.352\n",
      "[6,    23] loss: 5.792\n",
      "[6,    34] loss: 5.513\n",
      "[6,    45] loss: 5.703\n",
      "[6,    56] loss: 4.975\n",
      "[7,     1] loss: 0.157\n",
      "[7,    12] loss: 5.281\n",
      "[7,    23] loss: 4.528\n",
      "[7,    34] loss: 4.284\n",
      "[7,    45] loss: 4.274\n",
      "[7,    56] loss: 4.223\n",
      "[8,     1] loss: 0.397\n",
      "[8,    12] loss: 4.303\n",
      "[8,    23] loss: 3.800\n",
      "[8,    34] loss: 3.380\n",
      "[8,    45] loss: 3.428\n",
      "[8,    56] loss: 3.452\n",
      "[9,     1] loss: 0.584\n",
      "[9,    12] loss: 2.813\n",
      "[9,    23] loss: 2.953\n",
      "[9,    34] loss: 3.506\n",
      "[9,    45] loss: 2.380\n",
      "[9,    56] loss: 2.224\n",
      "[10,     1] loss: 0.059\n",
      "[10,    12] loss: 2.226\n",
      "[10,    23] loss: 2.657\n",
      "[10,    34] loss: 2.242\n",
      "[10,    45] loss: 2.741\n",
      "[10,    56] loss: 2.914\n",
      "[11,     1] loss: 0.038\n",
      "[11,    12] loss: 2.644\n",
      "[11,    23] loss: 2.532\n",
      "[11,    34] loss: 1.302\n",
      "[11,    45] loss: 1.598\n",
      "[11,    56] loss: 1.988\n",
      "[12,     1] loss: 0.152\n",
      "[12,    12] loss: 1.283\n",
      "[12,    23] loss: 2.905\n",
      "[12,    34] loss: 2.118\n",
      "[12,    45] loss: 1.903\n",
      "[12,    56] loss: 2.466\n",
      "[13,     1] loss: 0.066\n",
      "[13,    12] loss: 1.543\n",
      "[13,    23] loss: 0.801\n",
      "[13,    34] loss: 1.441\n",
      "[13,    45] loss: 2.132\n",
      "[13,    56] loss: 1.828\n",
      "[14,     1] loss: 0.006\n",
      "[14,    12] loss: 1.516\n",
      "[14,    23] loss: 1.562\n",
      "[14,    34] loss: 1.535\n",
      "[14,    45] loss: 2.081\n",
      "[14,    56] loss: 1.305\n",
      "[15,     1] loss: 0.375\n",
      "[15,    12] loss: 1.485\n",
      "[15,    23] loss: 1.362\n",
      "[15,    34] loss: 1.176\n",
      "[15,    45] loss: 0.707\n",
      "[15,    56] loss: 1.010\n",
      "[16,     1] loss: 0.065\n",
      "[16,    12] loss: 1.250\n",
      "[16,    23] loss: 1.083\n",
      "[16,    34] loss: 1.537\n",
      "[16,    45] loss: 1.167\n",
      "[16,    56] loss: 1.555\n",
      "[17,     1] loss: 0.122\n",
      "[17,    12] loss: 0.922\n",
      "[17,    23] loss: 1.476\n",
      "[17,    34] loss: 0.815\n",
      "[17,    45] loss: 0.952\n",
      "[17,    56] loss: 0.998\n",
      "[18,     1] loss: 0.216\n",
      "[18,    12] loss: 0.865\n",
      "[18,    23] loss: 1.578\n",
      "[18,    34] loss: 0.800\n",
      "[18,    45] loss: 0.991\n",
      "[18,    56] loss: 1.268\n",
      "[19,     1] loss: 0.090\n",
      "[19,    12] loss: 0.600\n",
      "[19,    23] loss: 0.782\n",
      "[19,    34] loss: 0.559\n",
      "[19,    45] loss: 0.383\n",
      "[19,    56] loss: 1.115\n",
      "[20,     1] loss: 0.005\n",
      "[20,    12] loss: 0.854\n",
      "[20,    23] loss: 0.616\n",
      "[20,    34] loss: 0.960\n",
      "[20,    45] loss: 0.748\n",
      "[20,    56] loss: 0.498\n",
      "[21,     1] loss: 0.012\n",
      "[21,    12] loss: 0.782\n",
      "[21,    23] loss: 0.669\n",
      "[21,    34] loss: 0.362\n",
      "[21,    45] loss: 0.700\n",
      "[21,    56] loss: 0.636\n",
      "[22,     1] loss: 0.003\n",
      "[22,    12] loss: 0.259\n",
      "[22,    23] loss: 0.583\n",
      "[22,    34] loss: 0.631\n",
      "[22,    45] loss: 0.441\n",
      "[22,    56] loss: 0.896\n",
      "[23,     1] loss: 0.000\n",
      "[23,    12] loss: 0.354\n",
      "[23,    23] loss: 1.236\n",
      "[23,    34] loss: 0.856\n",
      "[23,    45] loss: 0.427\n",
      "[23,    56] loss: 0.498\n",
      "[24,     1] loss: 0.017\n",
      "[24,    12] loss: 0.914\n",
      "[24,    23] loss: 0.634\n",
      "[24,    34] loss: 0.653\n",
      "[24,    45] loss: 0.420\n",
      "[24,    56] loss: 0.688\n",
      "[25,     1] loss: 0.133\n",
      "[25,    12] loss: 0.900\n",
      "[25,    23] loss: 0.466\n",
      "[25,    34] loss: 0.221\n",
      "[25,    45] loss: 0.557\n",
      "[25,    56] loss: 0.587\n",
      "Finished Training\n"
     ]
    }
   ],
   "source": [
    "for epoch in range(25):  # loop over the dataset multiple times\n",
    "\n",
    "    running_loss = 0.0\n",
    "    for i, data in enumerate(train_loader, 0):\n",
    "        # get the inputs; data is a list of [inputs, labels]\n",
    "        inputs, labels = data\n",
    "\n",
    "        # zero the parameter gradients\n",
    "        optimizer.zero_grad()\n",
    "\n",
    "        # forward + backward + optimize\n",
    "        outputs = net(inputs)\n",
    "        loss = criterion(outputs, labels)\n",
    "        loss.backward()\n",
    "        optimizer.step()\n",
    "\n",
    "        # print statistics\n",
    "        running_loss += loss.item()\n",
    "        if i % 11 == 0:    # print every 2 mini-batches for this example\n",
    "            print(f'[{epoch + 1}, {i + 1:5d}] loss: {running_loss / 2:.3f}')\n",
    "            running_loss = 0.0\n",
    "\n",
    "print('Finished Training')\n",
    "\n",
    "PATH = './PNA_net.pth'\n",
    "torch.save(net.state_dict(), PATH)"
   ]
  },
  {
   "cell_type": "code",
   "execution_count": 154,
   "id": "118380ae-9f8b-4db7-bc30-9c642252dda8",
   "metadata": {},
   "outputs": [
    {
     "data": {
      "image/png": "[encoded data removed]",
      "text/plain": [
       "<Figure size 640x480 with 1 Axes>"
      ]
     },
     "metadata": {},
     "output_type": "display_data"
    },
    {
     "name": "stdout",
     "output_type": "stream",
     "text": [
      "Hey   Lamed Tav   Yod   Yod   Hey  \n"
     ]
    }
   ],
   "source": [
    "dataiter = iter(validation_loader)\n",
    "images, labels = next(dataiter)\n",
    "\n",
    "# print images\n",
    "imshow(torchvision.utils.make_grid(images))\n",
    "print(' '.join(f'{map_dict[int(labels[j])]:5s}' for j in range(batch_size)))"
   ]
  },
  {
   "cell_type": "code",
   "execution_count": 155,
   "id": "af937860-882e-4d86-8b79-dee414871ce0",
   "metadata": {},
   "outputs": [
    {
     "data": {
      "text/plain": [
       "<All keys matched successfully>"
      ]
     },
     "execution_count": 155,
     "metadata": {},
     "output_type": "execute_result"
    }
   ],
   "source": [
    "net = Net()\n",
    "net.load_state_dict(torch.load(PATH))"
   ]
  },
  {
   "cell_type": "code",
   "execution_count": 156,
   "id": "c2576678-1aaa-45d7-87bf-f8c0b4f784a9",
   "metadata": {},
   "outputs": [],
   "source": [
    "outputs = net(images)"
   ]
  },
  {
   "cell_type": "code",
   "execution_count": 157,
   "id": "a27552e2-f34d-4787-9fdb-d6bd2fb568ea",
   "metadata": {
    "scrolled": true
   },
   "outputs": [
    {
     "name": "stdout",
     "output_type": "stream",
     "text": [
      "Predicted:  Hey   Lamed Yod   Yod   Waw   Yod  \n"
     ]
    }
   ],
   "source": [
    "_, predicted = torch.max(outputs, 1)\n",
    "\n",
    "print('Predicted: ', ' '.join(f'{map_dict[int(predicted[j])]:5s}'\n",
    "                              for j in range(batch_size)))"
   ]
  },
  {
   "cell_type": "code",
   "execution_count": 158,
   "id": "acec9821-3a6e-49c2-afba-26496236d1e1",
   "metadata": {},
   "outputs": [],
   "source": [
    "def predict_solution(outputs, batch_size, topk) :\n",
    "    # Rescales them so that the elements of the n-dimensional output Tensor lie in the range [0,1] and sum to 1.\n",
    "    probabilities = F.softmax(outputs, dim=1)\n",
    "\n",
    "    # Retrieve the top 3 predictions for each image\n",
    "    top_probs, top_labels = torch.topk(probabilities, topk, dim=1)\n",
    "\n",
    "    # Mapping labels to classes\n",
    "    predictions = []\n",
    "    for i in range(batch_size):\n",
    "        predictions.append([(map_dict[int(top_labels[i][j])], top_probs[i][j].item()) for j in range(topk)])\n",
    "\n",
    "    # Display predictions\n",
    "    for i, preds in enumerate(predictions):\n",
    "        print(f'Image {i+1}:')\n",
    "        for label, prob in preds:\n",
    "            print(f'  {label}: {prob*100:.2f}%')"
   ]
  },
  {
   "cell_type": "code",
   "execution_count": 159,
   "id": "acab3e07-6247-4156-a553-81d2a361059e",
   "metadata": {},
   "outputs": [
    {
     "name": "stdout",
     "output_type": "stream",
     "text": [
      "Image 1:\n",
      "  Hey: 99.80%\n",
      "  Yod: 0.20%\n",
      "  Alef: 0.00%\n",
      "  Shin: 0.00%\n",
      "  Lamed: 0.00%\n",
      "Image 2:\n",
      "  Lamed: 98.80%\n",
      "  Tav: 1.19%\n",
      "  Alef: 0.00%\n",
      "  Shin: 0.00%\n",
      "  Hey: 0.00%\n",
      "Image 3:\n",
      "  Yod: 38.85%\n",
      "  Tav: 30.89%\n",
      "  Shin: 24.88%\n",
      "  Lamed: 1.88%\n",
      "  Alef: 1.55%\n",
      "Image 4:\n",
      "  Yod: 98.80%\n",
      "  Shin: 1.08%\n",
      "  Alef: 0.07%\n",
      "  Hey: 0.03%\n",
      "  Tav: 0.02%\n",
      "Image 5:\n",
      "  Waw: 91.31%\n",
      "  Yod: 6.78%\n",
      "  Alef: 1.56%\n",
      "  Tav: 0.34%\n",
      "  Shin: 0.00%\n",
      "Image 6:\n",
      "  Yod: 81.95%\n",
      "  Hey: 8.21%\n",
      "  Alef: 4.76%\n",
      "  Tav: 4.59%\n",
      "  Shin: 0.28%\n"
     ]
    }
   ],
   "source": [
    "predict_solution(outputs, batch_size, 5);"
   ]
  },
  {
   "cell_type": "code",
   "execution_count": 160,
   "id": "4200c6dc-a1ad-44ea-a40d-c83fbb44fc04",
   "metadata": {},
   "outputs": [
    {
     "name": "stdout",
     "output_type": "stream",
     "text": [
      "Image 1:\n",
      "  Hey: 95.35%\n",
      "  Yod: 4.25%\n",
      "  Shin: 0.13%\n",
      "  Lamed: 0.09%\n",
      "  Alef: 0.05%\n",
      "Image 1:\n",
      "  Shin: 56.28%\n",
      "  Yod: 42.52%\n",
      "  Hey: 1.09%\n",
      "  Alef: 0.03%\n",
      "  Zain: 0.01%\n"
     ]
    }
   ],
   "source": [
    "transform = transforms.Compose([\n",
    "    transforms.Resize((28, 28)),\n",
    "    transforms.ToTensor(),\n",
    "    transforms.Normalize(0.5, 0.5)\n",
    "])\n",
    "\n",
    "image = Image.open(\"test_image_1.jpg\")\n",
    "image = ImageOps.invert(image.convert('L'))\n",
    "image = transform(image)\n",
    "image = image.unsqueeze(0)\n",
    "\n",
    "outputs2 = net(image)\n",
    "\n",
    "predict_solution(outputs2, 1, 5)\n",
    "\n",
    "image = Image.open(\"test_image_2.jpg\")\n",
    "image = ImageOps.invert(image.convert('L'))\n",
    "image = transform(image)\n",
    "image = image.unsqueeze(0)\n",
    "\n",
    "outputs2 = net(image)\n",
    "\n",
    "predict_solution(outputs2, 1, 5)"
   ]
  }
 ],
 "metadata": {
  "kernelspec": {
   "display_name": "Python 3 (ipykernel)",
   "language": "python",
   "name": "python3"
  },
  "language_info": {
   "codemirror_mode": {
    "name": "ipython",
    "version": 3
   },
   "file_extension": ".py",
   "mimetype": "text/x-python",
   "name": "python",
   "nbconvert_exporter": "python",
   "pygments_lexer": "ipython3",
   "version": "3.10.2"
  }
 },
 "nbformat": 4,
 "nbformat_minor": 5
}
