{
 "cells": [
  {
   "cell_type": "code",
   "execution_count": 174,
   "id": "e78bf99b-9a79-4948-8c6a-5bbd2d5ca86a",
   "metadata": {},
   "outputs": [],
   "source": [
    "# Main source : https://pytorch.org/tutorials/beginner/blitz/cifar10_tutorial.html"
   ]
  },
  {
   "cell_type": "code",
   "execution_count": 175,
   "id": "63538798-507b-476d-9ac6-ff53757f8296",
   "metadata": {},
   "outputs": [],
   "source": [
    "import torch\n",
    "import torchvision\n",
    "import torchvision.transforms as transforms\n",
    "from torch.utils.data import Dataset, DataLoader\n",
    "import numpy as np\n",
    "import matplotlib.pyplot as plt\n",
    "from PIL import Image, ImageOps"
   ]
  },
  {
   "cell_type": "code",
   "execution_count": 176,
   "id": "3c2c6a42-59be-4749-a0a9-9b5ba7b5e355",
   "metadata": {},
   "outputs": [],
   "source": [
    "# Custom Dataset to manage images (28x28) and their labels. Mainly related to the Dead Sea Scrolls.\n",
    "class CustomDataset(Dataset):\n",
    "    def __init__(self, images_file, labels_file, transform=None):\n",
    "        self.images = self.load_images(images_file)\n",
    "        self.labels = self.load_labels(labels_file)\n",
    "        self.transform = transform\n",
    "\n",
    "    def __len__(self):\n",
    "        return len(self.labels)\n",
    "\n",
    "    def __getitem__(self, idx):\n",
    "        image = self.images[idx]\n",
    "        label = self.labels[idx]\n",
    "        if self.transform:\n",
    "            image = self.transform(image)\n",
    "        return image, label\n",
    "\n",
    "    def load_images(self, file_path):\n",
    "        with open(file_path, 'rb') as f:\n",
    "            data = np.frombuffer(f.read(), dtype=np.uint8, offset=16)  # Skip first 16 bytes\n",
    "        num_images = len(data) // (28 * 28)\n",
    "        data = data.reshape(num_images, 28, 28)\n",
    "        return data.copy()  # Ensure the array is writable\n",
    "\n",
    "    def load_labels(self, file_path):\n",
    "        with open(file_path, 'rb') as f:\n",
    "            data = np.frombuffer(f.read(), dtype=np.uint8, offset=8)  # Skip first 8 bytes\n",
    "        return data"
   ]
  },
  {
   "cell_type": "code",
   "execution_count": 177,
   "id": "5e90cb72-05ee-4af2-b7da-f6e025f47ea1",
   "metadata": {},
   "outputs": [
    {
     "data": {
      "text/plain": [
       "\"\\ntrain_set = torchvision.datasets.MNIST(root='./data', train=True,\\n                                        download=True, transform=transform)\\nvalidation_set = torchvision.datasets.MNIST(root='./data', train=False,\\n                                        download=True, transform=transform)\\n\\nvalidation_loader = torch.utils.data.DataLoader(validation_set, batch_size=batch_size,\\n                                         shuffle=False, num_workers=2)\\ntrain_loader = torch.utils.data.DataLoader(train_set, batch_size=batch_size,\\n                                          shuffle=True, num_workers=2)\\n\""
      ]
     },
     "execution_count": 177,
     "metadata": {},
     "output_type": "execute_result"
    }
   ],
   "source": [
    "train_images_file = \"dataset/train-images-idx3-ubyte\"\n",
    "train_labels_file = \"dataset/train-labels-idx1-ubyte\"\n",
    "validation_images_file = \"dataset/validation-images-idx3-ubyte\"\n",
    "validation_labels_file = \"dataset/validation-labels-idx1-ubyte\"\n",
    "\n",
    "batch_size = 6 # number of samples (images and their corresponding labels) to be loaded and processed together for each iteration of training or model validation\n",
    "\n",
    "transform = transforms.Compose(\n",
    "    [transforms.ToTensor(),\n",
    "     transforms.Normalize(0.5, 0.5)])\n",
    "\n",
    "train_set = CustomDataset(train_images_file, train_labels_file, transform=transform) # Loading Dataset Training\n",
    "validation_set = CustomDataset(validation_images_file, validation_labels_file, transform=transform) # Loading Dataset Validation\n",
    "\n",
    "validation_loader = DataLoader(validation_set, batch_size=batch_size, shuffle=True) # Shuffle Dataset Validation and divide into batches\n",
    "train_loader = DataLoader(train_set, batch_size=batch_size, shuffle=True) # Shuffle Dataset Training and divide into batches\n",
    "\n",
    "'''\n",
    "train_set = torchvision.datasets.MNIST(root='./data', train=True,\n",
    "                                        download=True, transform=transform)\n",
    "validation_set = torchvision.datasets.MNIST(root='./data', train=False,\n",
    "                                        download=True, transform=transform)\n",
    "\n",
    "validation_loader = torch.utils.data.DataLoader(validation_set, batch_size=batch_size,\n",
    "                                         shuffle=False, num_workers=2)\n",
    "train_loader = torch.utils.data.DataLoader(train_set, batch_size=batch_size,\n",
    "                                          shuffle=True, num_workers=2)\n",
    "'''"
   ]
  },
  {
   "cell_type": "code",
   "execution_count": 178,
   "id": "36f570c1-a909-4fbb-acf4-cb6f5115d4ae",
   "metadata": {},
   "outputs": [
    {
     "name": "stdout",
     "output_type": "stream",
     "text": [
      "Alef\n"
     ]
    },
    {
     "data": {
      "text/plain": [
       "'\\nmap_dict = {0: \"0\", 1: \"1\", 2: \"2\", 3: \"3\", 4: \"4\", 5: \"5\", 6: \"6\", 7: \"7\", 8: \"8\", 9: \"9\"}\\nprint(map_dict[0])\\n'"
      ]
     },
     "execution_count": 178,
     "metadata": {},
     "output_type": "execute_result"
    }
   ],
   "source": [
    "# Generate Dictionnary of Hebrew Characters to correspond to the labels (0 to 21)\n",
    "with open('dictionnary_labels.txt', 'r') as file:\n",
    "    lines = file.readlines()\n",
    "\n",
    "map_dict = {}\n",
    "\n",
    "for line in lines:\n",
    "    line = line.strip()\n",
    "    key, value = line.split('_')\n",
    "    map_dict[int(key) - 1] = value\n",
    "\n",
    "print(map_dict[0])\n",
    "\n",
    "\"\"\"\n",
    "map_dict = {0: \"0\", 1: \"1\", 2: \"2\", 3: \"3\", 4: \"4\", 5: \"5\", 6: \"6\", 7: \"7\", 8: \"8\", 9: \"9\"}\n",
    "print(map_dict[0])\n",
    "\"\"\""
   ]
  },
  {
   "cell_type": "code",
   "execution_count": 179,
   "id": "2fca3b1e-cc26-4b4e-ade0-2bc6df303ffc",
   "metadata": {},
   "outputs": [
    {
     "data": {
      "image/png": "[encoded data removed]",
      "text/plain": [
       "<Figure size 640x480 with 1 Axes>"
      ]
     },
     "metadata": {},
     "output_type": "display_data"
    },
    {
     "name": "stdout",
     "output_type": "stream",
     "text": [
      "Yod   Yod   Lamed Lamed Tav   Shin \n"
     ]
    }
   ],
   "source": [
    "def imshow(img):\n",
    "    img = img / 2 + 0.5     # unnormalize\n",
    "    npimg = img.numpy()\n",
    "    plt.imshow(np.transpose(npimg, (1, 2, 0)))\n",
    "    plt.show()\n",
    "\n",
    "\n",
    "# get some random training images\n",
    "dataiter = iter(train_loader)\n",
    "images, labels = next(dataiter)\n",
    "\n",
    "# show images\n",
    "imshow(torchvision.utils.make_grid(images))\n",
    "# print labels\n",
    "print(' '.join(f'{map_dict[int(labels[j])]:5s}' for j in range(batch_size)))"
   ]
  },
  {
   "cell_type": "code",
   "execution_count": 180,
   "id": "85384a0e-ff5e-42cc-9fc5-e7a4b2258962",
   "metadata": {},
   "outputs": [],
   "source": [
    "import torch.nn as nn\n",
    "import torch.nn.functional as F\n",
    "\n",
    "\n",
    "class Net(nn.Module):\n",
    "    def __init__(self):\n",
    "        super().__init__()\n",
    "        # First convolutional layer: input channels = 1 (dimension of the picture), output channels = 6, kernel size = 5x5\n",
    "        self.conv1 = nn.Conv2d(1, 6, 5)\n",
    "        # Max pooling layer: kernel size = 2x2, stride = 2\n",
    "        self.pool = nn.MaxPool2d(2, 2)\n",
    "         # Second convolutional layer: input channels = 6, output channels = 16, kernel size = 5x5\n",
    "        self.conv2 = nn.Conv2d(6, 16, 5)\n",
    "        # First fully connected layer: input features = 16*4*4, output features = 120\n",
    "        self.fc1 = nn.Linear(16 * 4 * 4, 120)\n",
    "        # Second fully connected layer: input features = 120, output features = 84\n",
    "        self.fc2 = nn.Linear(120, 84)\n",
    "        # Output layer: input features = 84, output features = 22 (assuming 22 classes)\n",
    "        self.fc3 = nn.Linear(84, 22)\n",
    "\n",
    "    def forward(self, x):\n",
    "        # Forward pass through the network\n",
    "        x = self.pool(F.relu(self.conv1(x)))\n",
    "        x = self.pool(F.relu(self.conv2(x)))\n",
    "        x = torch.flatten(x, 1) # flatten all dimensions except batch\n",
    "        x = F.relu(self.fc1(x))\n",
    "        x = F.relu(self.fc2(x))\n",
    "        x = self.fc3(x)\n",
    "        return x\n",
    "        \n",
    "# Instantiate the neural network\n",
    "net = Net()"
   ]
  },
  {
   "cell_type": "code",
   "execution_count": 181,
   "id": "2be74d6b-a886-4ed1-aea4-aa9086d391b1",
   "metadata": {},
   "outputs": [
    {
     "data": {
      "text/plain": [
       "'\\n- `optim.SGD()`: This creates an instance of the Stochastic Gradient Descent (SGD) optimizer.\\n  Stochastic Gradient Descent is a popular optimization algorithm used for training \\n  neural networks. It updates the parameters (weights and biases) of the network \\n  based on the gradients of the loss function with respect to those parameters.\\n- `net.parameters()`: This specifies the parameters (weights and biases) of the neural \\n  network that should be optimized.\\n- `lr=0.001`: This sets the learning rate, which controls the step size of the parameter \\n  updates during optimization. A learning rate of 0.001 is commonly used as a starting \\n  point for many optimization tasks.\\n- `momentum=0.9`: This sets the momentum parameter, which accelerates SGD in the \\n  relevant direction and dampens oscillations. It helps to converge faster towards \\n  the minimum of the loss function.\\n'"
      ]
     },
     "execution_count": 181,
     "metadata": {},
     "output_type": "execute_result"
    }
   ],
   "source": [
    "import torch.optim as optim\n",
    "\n",
    "# Define a Loss function and optimizer :\n",
    "\n",
    "# Define the loss function\n",
    "criterion = nn.CrossEntropyLoss()\n",
    "'''\n",
    "- `nn.CrossEntropyLoss()`: This creates an instance of the Cross Entropy Loss criterion.\n",
    "  Cross Entropy Loss is commonly used for classification problems. It computes the \n",
    "  cross-entropy loss between the predicted probability distribution and the true \n",
    "  label distribution. It is suitable for multi-class classification tasks.\n",
    "'''\n",
    "\n",
    "# Define the optimizer\n",
    "optimizer = optim.SGD(net.parameters(), lr=0.001, momentum=0.9)\n",
    "'''\n",
    "- `optim.SGD()`: This creates an instance of the Stochastic Gradient Descent (SGD) optimizer.\n",
    "  Stochastic Gradient Descent is a popular optimization algorithm used for training \n",
    "  neural networks. It updates the parameters (weights and biases) of the network \n",
    "  based on the gradients of the loss function with respect to those parameters.\n",
    "- `net.parameters()`: This specifies the parameters (weights and biases) of the neural \n",
    "  network that should be optimized.\n",
    "- `lr=0.001`: This sets the learning rate, which controls the step size of the parameter \n",
    "  updates during optimization. A learning rate of 0.001 is commonly used as a starting \n",
    "  point for many optimization tasks.\n",
    "- `momentum=0.9`: This sets the momentum parameter, which accelerates SGD in the \n",
    "  relevant direction and dampens oscillations. It helps to converge faster towards \n",
    "  the minimum of the loss function.\n",
    "'''"
   ]
  },
  {
   "cell_type": "code",
   "execution_count": 194,
   "id": "676784b0-d066-4833-9941-ed7437c7f043",
   "metadata": {},
   "outputs": [
    {
     "data": {
      "text/plain": [
       "\"\\n4 Mesures to understand the training model :\\n\\n-- Loss -- \\n\\nLoss is a measure of model error. It quantifies the extent to which the model's predictions deviate from the true values.\\nCross-Entropy Loss computes the difference between two probability distributions for a provided set of occurrences or random variables.\\nThe loss is between 0 (good) and 1 (bad).\\n\\nOther loss functions : https://neptune.ai/blog/pytorch-loss-functions\\n\\n-- Accuracy --\\n\\nAccuracy is the percentage of correct predictions out of all predictions. \\nIt is calculated as the number of correct predictions divided by the total number of predictions.\\nThe Accuracy is between 0 (bad) and 1 (good).\\n\\n-- Recall --\\n\\nRecall is the percentage of true positives captured among all the elements that are actually positive. \\nIt is calculated as the number of true positives divided by the sum of true positives and false negatives.\\nThe Recall is between 0 (bad) and 1 (good).\\n\\n-- F1-score --\\n\\nThe F1-score is the harmonic mean of precision and recall. \\nIt is calculated as F1 = 2 * ((Accuracy*Recall)/(Accuracy+Recall))\\n\\n\""
      ]
     },
     "execution_count": 194,
     "metadata": {},
     "output_type": "execute_result"
    }
   ],
   "source": [
    "\"\"\"\n",
    "4 Mesures to understand the training model :\n",
    "\n",
    "-- Loss -- \n",
    "\n",
    "Loss is a measure of model error. It quantifies the extent to which the model's predictions deviate from the true values.\n",
    "Cross-Entropy Loss computes the difference between two probability distributions for a provided set of occurrences or random variables.\n",
    "The loss is between 0 (good) and 1 (bad).\n",
    "\n",
    "Other loss functions : https://neptune.ai/blog/pytorch-loss-functions\n",
    "\n",
    "-- Accuracy --\n",
    "\n",
    "Accuracy is the percentage of correct predictions out of all predictions. \n",
    "It is calculated as the number of correct predictions divided by the total number of predictions.\n",
    "The Accuracy is between 0 (bad) and 1 (good).\n",
    "\n",
    "-- Recall --\n",
    "\n",
    "Recall is the percentage of true positives captured among all the elements that are actually positive. \n",
    "It is calculated as the number of true positives divided by the sum of true positives and false negatives.\n",
    "The Recall is between 0 (bad) and 1 (good).\n",
    "\n",
    "-- F1-score --\n",
    "\n",
    "The F1-score is the harmonic mean of precision and recall. \n",
    "It is calculated as F1 = 2 * ((Accuracy*Recall)/(Accuracy+Recall))\n",
    "\n",
    "\"\"\""
   ]
  },
  {
   "cell_type": "code",
   "execution_count": 182,
   "id": "ffba5c29-9a42-4ddf-bab9-7c97536ab3ab",
   "metadata": {},
   "outputs": [
    {
     "name": "stderr",
     "output_type": "stream",
     "text": [
      "C:\\Users\\leo22\\AppData\\Local\\Programs\\Python\\Python310\\lib\\site-packages\\sklearn\\metrics\\_classification.py:1509: UndefinedMetricWarning: Recall is ill-defined and being set to 0.0 in labels with no true samples. Use `zero_division` parameter to control this behavior.\n",
      "  _warn_prf(average, modifier, f\"{metric.capitalize()} is\", len(result))\n"
     ]
    },
    {
     "name": "stdout",
     "output_type": "stream",
     "text": [
      "Epoch [1] Accuracy: 0.324, Recall: 0.244, F1-score: 0.247, loss: 1.878\n",
      "Epoch [2] Accuracy: 0.693, Recall: 0.690, F1-score: 0.683, loss: 0.874\n",
      "Epoch [3] Accuracy: 0.788, Recall: 0.789, F1-score: 0.788, loss: 0.624\n",
      "Epoch [4] Accuracy: 0.847, Recall: 0.847, F1-score: 0.847, loss: 0.455\n",
      "Epoch [5] Accuracy: 0.887, Recall: 0.887, F1-score: 0.887, loss: 0.340\n",
      "Epoch [6] Accuracy: 0.905, Recall: 0.905, F1-score: 0.905, loss: 0.281\n",
      "Epoch [7] Accuracy: 0.923, Recall: 0.923, F1-score: 0.923, loss: 0.220\n",
      "Epoch [8] Accuracy: 0.936, Recall: 0.936, F1-score: 0.936, loss: 0.178\n",
      "Epoch [9] Accuracy: 0.947, Recall: 0.948, F1-score: 0.947, loss: 0.155\n",
      "Epoch [10] Accuracy: 0.953, Recall: 0.953, F1-score: 0.953, loss: 0.128\n",
      "Epoch [11] Accuracy: 0.962, Recall: 0.962, F1-score: 0.962, loss: 0.107\n",
      "Epoch [12] Accuracy: 0.964, Recall: 0.964, F1-score: 0.964, loss: 0.094\n",
      "Epoch [13] Accuracy: 0.976, Recall: 0.976, F1-score: 0.976, loss: 0.071\n",
      "Epoch [14] Accuracy: 0.982, Recall: 0.982, F1-score: 0.982, loss: 0.054\n",
      "Epoch [15] Accuracy: 0.984, Recall: 0.984, F1-score: 0.984, loss: 0.046\n",
      "Epoch [16] Accuracy: 0.984, Recall: 0.984, F1-score: 0.984, loss: 0.046\n",
      "Epoch [17] Accuracy: 0.989, Recall: 0.989, F1-score: 0.989, loss: 0.031\n",
      "Epoch [18] Accuracy: 0.986, Recall: 0.986, F1-score: 0.986, loss: 0.036\n",
      "Epoch [19] Accuracy: 0.997, Recall: 0.997, F1-score: 0.997, loss: 0.015\n",
      "Epoch [20] Accuracy: 0.995, Recall: 0.995, F1-score: 0.995, loss: 0.016\n",
      "Epoch [21] Accuracy: 0.999, Recall: 0.999, F1-score: 0.999, loss: 0.006\n",
      "Epoch [22] Accuracy: 1.000, Recall: 1.000, F1-score: 1.000, loss: 0.004\n",
      "Epoch [23] Accuracy: 1.000, Recall: 1.000, F1-score: 1.000, loss: 0.003\n",
      "Epoch [24] Accuracy: 1.000, Recall: 1.000, F1-score: 1.000, loss: 0.001\n",
      "Epoch [25] Accuracy: 1.000, Recall: 1.000, F1-score: 1.000, loss: 0.001\n",
      "Epoch [26] Accuracy: 1.000, Recall: 1.000, F1-score: 1.000, loss: 0.001\n",
      "Epoch [27] Accuracy: 1.000, Recall: 1.000, F1-score: 1.000, loss: 0.001\n",
      "Epoch [28] Accuracy: 1.000, Recall: 1.000, F1-score: 1.000, loss: 0.001\n",
      "Epoch [29] Accuracy: 1.000, Recall: 1.000, F1-score: 1.000, loss: 0.001\n",
      "Epoch [30] Accuracy: 1.000, Recall: 1.000, F1-score: 1.000, loss: 0.001\n",
      "Epoch [31] Accuracy: 1.000, Recall: 1.000, F1-score: 1.000, loss: 0.001\n",
      "Epoch [32] Accuracy: 1.000, Recall: 1.000, F1-score: 1.000, loss: 0.001\n",
      "Epoch [33] Accuracy: 1.000, Recall: 1.000, F1-score: 1.000, loss: 0.000\n",
      "Epoch [34] Accuracy: 1.000, Recall: 1.000, F1-score: 1.000, loss: 0.000\n",
      "Epoch [35] Accuracy: 1.000, Recall: 1.000, F1-score: 1.000, loss: 0.000\n",
      "Epoch [36] Accuracy: 1.000, Recall: 1.000, F1-score: 1.000, loss: 0.000\n",
      "Epoch [37] Accuracy: 1.000, Recall: 1.000, F1-score: 1.000, loss: 0.000\n",
      "Epoch [38] Accuracy: 1.000, Recall: 1.000, F1-score: 1.000, loss: 0.000\n",
      "Epoch [39] Accuracy: 1.000, Recall: 1.000, F1-score: 1.000, loss: 0.000\n",
      "Epoch [40] Accuracy: 1.000, Recall: 1.000, F1-score: 1.000, loss: 0.000\n",
      "Epoch [41] Accuracy: 1.000, Recall: 1.000, F1-score: 1.000, loss: 0.000\n",
      "Epoch [42] Accuracy: 1.000, Recall: 1.000, F1-score: 1.000, loss: 0.000\n",
      "Epoch [43] Accuracy: 1.000, Recall: 1.000, F1-score: 1.000, loss: 0.000\n",
      "Epoch [44] Accuracy: 1.000, Recall: 1.000, F1-score: 1.000, loss: 0.000\n",
      "Epoch [45] Accuracy: 1.000, Recall: 1.000, F1-score: 1.000, loss: 0.000\n",
      "Epoch [46] Accuracy: 1.000, Recall: 1.000, F1-score: 1.000, loss: 0.000\n",
      "Epoch [47] Accuracy: 1.000, Recall: 1.000, F1-score: 1.000, loss: 0.000\n",
      "Epoch [48] Accuracy: 1.000, Recall: 1.000, F1-score: 1.000, loss: 0.000\n",
      "Epoch [49] Accuracy: 1.000, Recall: 1.000, F1-score: 1.000, loss: 0.000\n",
      "Epoch [50] Accuracy: 1.000, Recall: 1.000, F1-score: 1.000, loss: 0.000\n",
      "Epoch [51] Accuracy: 1.000, Recall: 1.000, F1-score: 1.000, loss: 0.000\n",
      "Epoch [52] Accuracy: 1.000, Recall: 1.000, F1-score: 1.000, loss: 0.000\n",
      "Epoch [53] Accuracy: 1.000, Recall: 1.000, F1-score: 1.000, loss: 0.000\n",
      "Epoch [54] Accuracy: 1.000, Recall: 1.000, F1-score: 1.000, loss: 0.000\n",
      "Epoch [55] Accuracy: 1.000, Recall: 1.000, F1-score: 1.000, loss: 0.000\n",
      "Epoch [56] Accuracy: 1.000, Recall: 1.000, F1-score: 1.000, loss: 0.000\n",
      "Epoch [57] Accuracy: 1.000, Recall: 1.000, F1-score: 1.000, loss: 0.000\n",
      "Epoch [58] Accuracy: 1.000, Recall: 1.000, F1-score: 1.000, loss: 0.000\n",
      "Epoch [59] Accuracy: 1.000, Recall: 1.000, F1-score: 1.000, loss: 0.000\n",
      "Epoch [60] Accuracy: 1.000, Recall: 1.000, F1-score: 1.000, loss: 0.000\n",
      "Epoch [61] Accuracy: 1.000, Recall: 1.000, F1-score: 1.000, loss: 0.000\n",
      "Epoch [62] Accuracy: 1.000, Recall: 1.000, F1-score: 1.000, loss: 0.000\n",
      "Epoch [63] Accuracy: 1.000, Recall: 1.000, F1-score: 1.000, loss: 0.000\n",
      "Epoch [64] Accuracy: 1.000, Recall: 1.000, F1-score: 1.000, loss: 0.000\n",
      "Epoch [65] Accuracy: 1.000, Recall: 1.000, F1-score: 1.000, loss: 0.000\n",
      "Epoch [66] Accuracy: 1.000, Recall: 1.000, F1-score: 1.000, loss: 0.000\n",
      "Epoch [67] Accuracy: 1.000, Recall: 1.000, F1-score: 1.000, loss: 0.000\n",
      "Epoch [68] Accuracy: 1.000, Recall: 1.000, F1-score: 1.000, loss: 0.000\n",
      "Epoch [69] Accuracy: 1.000, Recall: 1.000, F1-score: 1.000, loss: 0.000\n",
      "Epoch [70] Accuracy: 1.000, Recall: 1.000, F1-score: 1.000, loss: 0.000\n",
      "Epoch [71] Accuracy: 1.000, Recall: 1.000, F1-score: 1.000, loss: 0.000\n",
      "Epoch [72] Accuracy: 1.000, Recall: 1.000, F1-score: 1.000, loss: 0.000\n",
      "Epoch [73] Accuracy: 1.000, Recall: 1.000, F1-score: 1.000, loss: 0.000\n",
      "Epoch [74] Accuracy: 1.000, Recall: 1.000, F1-score: 1.000, loss: 0.000\n",
      "Epoch [75] Accuracy: 1.000, Recall: 1.000, F1-score: 1.000, loss: 0.000\n",
      "Epoch [76] Accuracy: 1.000, Recall: 1.000, F1-score: 1.000, loss: 0.000\n",
      "Epoch [77] Accuracy: 1.000, Recall: 1.000, F1-score: 1.000, loss: 0.000\n",
      "Epoch [78] Accuracy: 1.000, Recall: 1.000, F1-score: 1.000, loss: 0.000\n",
      "Epoch [79] Accuracy: 1.000, Recall: 1.000, F1-score: 1.000, loss: 0.000\n",
      "Epoch [80] Accuracy: 1.000, Recall: 1.000, F1-score: 1.000, loss: 0.000\n",
      "Epoch [81] Accuracy: 1.000, Recall: 1.000, F1-score: 1.000, loss: 0.000\n",
      "Epoch [82] Accuracy: 1.000, Recall: 1.000, F1-score: 1.000, loss: 0.000\n",
      "Epoch [83] Accuracy: 1.000, Recall: 1.000, F1-score: 1.000, loss: 0.000\n",
      "Epoch [84] Accuracy: 1.000, Recall: 1.000, F1-score: 1.000, loss: 0.000\n",
      "Epoch [85] Accuracy: 1.000, Recall: 1.000, F1-score: 1.000, loss: 0.000\n",
      "Epoch [86] Accuracy: 1.000, Recall: 1.000, F1-score: 1.000, loss: 0.000\n",
      "Epoch [87] Accuracy: 1.000, Recall: 1.000, F1-score: 1.000, loss: 0.000\n",
      "Epoch [88] Accuracy: 1.000, Recall: 1.000, F1-score: 1.000, loss: 0.000\n",
      "Epoch [89] Accuracy: 1.000, Recall: 1.000, F1-score: 1.000, loss: 0.000\n",
      "Epoch [90] Accuracy: 1.000, Recall: 1.000, F1-score: 1.000, loss: 0.000\n",
      "Epoch [91] Accuracy: 1.000, Recall: 1.000, F1-score: 1.000, loss: 0.000\n",
      "Epoch [92] Accuracy: 1.000, Recall: 1.000, F1-score: 1.000, loss: 0.000\n",
      "Epoch [93] Accuracy: 1.000, Recall: 1.000, F1-score: 1.000, loss: 0.000\n",
      "Epoch [94] Accuracy: 1.000, Recall: 1.000, F1-score: 1.000, loss: 0.000\n",
      "Epoch [95] Accuracy: 1.000, Recall: 1.000, F1-score: 1.000, loss: 0.000\n",
      "Epoch [96] Accuracy: 1.000, Recall: 1.000, F1-score: 1.000, loss: 0.000\n",
      "Epoch [97] Accuracy: 1.000, Recall: 1.000, F1-score: 1.000, loss: 0.000\n",
      "Epoch [98] Accuracy: 1.000, Recall: 1.000, F1-score: 1.000, loss: 0.000\n",
      "Epoch [99] Accuracy: 1.000, Recall: 1.000, F1-score: 1.000, loss: 0.000\n",
      "Epoch [100] Accuracy: 1.000, Recall: 1.000, F1-score: 1.000, loss: 0.000\n",
      "Epoch [101] Accuracy: 1.000, Recall: 1.000, F1-score: 1.000, loss: 0.000\n",
      "Epoch [102] Accuracy: 1.000, Recall: 1.000, F1-score: 1.000, loss: 0.000\n",
      "Epoch [103] Accuracy: 1.000, Recall: 1.000, F1-score: 1.000, loss: 0.000\n",
      "Epoch [104] Accuracy: 1.000, Recall: 1.000, F1-score: 1.000, loss: 0.000\n",
      "Epoch [105] Accuracy: 1.000, Recall: 1.000, F1-score: 1.000, loss: 0.000\n",
      "Epoch [106] Accuracy: 1.000, Recall: 1.000, F1-score: 1.000, loss: 0.000\n",
      "Epoch [107] Accuracy: 1.000, Recall: 1.000, F1-score: 1.000, loss: 0.000\n",
      "Epoch [108] Accuracy: 1.000, Recall: 1.000, F1-score: 1.000, loss: 0.000\n",
      "Epoch [109] Accuracy: 1.000, Recall: 1.000, F1-score: 1.000, loss: 0.000\n",
      "Epoch [110] Accuracy: 1.000, Recall: 1.000, F1-score: 1.000, loss: 0.000\n",
      "Epoch [111] Accuracy: 1.000, Recall: 1.000, F1-score: 1.000, loss: 0.000\n",
      "Epoch [112] Accuracy: 1.000, Recall: 1.000, F1-score: 1.000, loss: 0.000\n",
      "Epoch [113] Accuracy: 1.000, Recall: 1.000, F1-score: 1.000, loss: 0.000\n",
      "Epoch [114] Accuracy: 1.000, Recall: 1.000, F1-score: 1.000, loss: 0.000\n",
      "Epoch [115] Accuracy: 1.000, Recall: 1.000, F1-score: 1.000, loss: 0.000\n",
      "Epoch [116] Accuracy: 1.000, Recall: 1.000, F1-score: 1.000, loss: 0.000\n",
      "Epoch [117] Accuracy: 1.000, Recall: 1.000, F1-score: 1.000, loss: 0.000\n",
      "Epoch [118] Accuracy: 1.000, Recall: 1.000, F1-score: 1.000, loss: 0.000\n",
      "Epoch [119] Accuracy: 1.000, Recall: 1.000, F1-score: 1.000, loss: 0.000\n",
      "Epoch [120] Accuracy: 1.000, Recall: 1.000, F1-score: 1.000, loss: 0.000\n",
      "Epoch [121] Accuracy: 1.000, Recall: 1.000, F1-score: 1.000, loss: 0.000\n",
      "Epoch [122] Accuracy: 1.000, Recall: 1.000, F1-score: 1.000, loss: 0.000\n",
      "Epoch [123] Accuracy: 1.000, Recall: 1.000, F1-score: 1.000, loss: 0.000\n",
      "Epoch [124] Accuracy: 1.000, Recall: 1.000, F1-score: 1.000, loss: 0.000\n",
      "Epoch [125] Accuracy: 1.000, Recall: 1.000, F1-score: 1.000, loss: 0.000\n",
      "Epoch [126] Accuracy: 1.000, Recall: 1.000, F1-score: 1.000, loss: 0.000\n",
      "Epoch [127] Accuracy: 1.000, Recall: 1.000, F1-score: 1.000, loss: 0.000\n",
      "Epoch [128] Accuracy: 1.000, Recall: 1.000, F1-score: 1.000, loss: 0.000\n",
      "Epoch [129] Accuracy: 1.000, Recall: 1.000, F1-score: 1.000, loss: 0.000\n",
      "Epoch [130] Accuracy: 1.000, Recall: 1.000, F1-score: 1.000, loss: 0.000\n",
      "Epoch [131] Accuracy: 1.000, Recall: 1.000, F1-score: 1.000, loss: 0.000\n",
      "Epoch [132] Accuracy: 1.000, Recall: 1.000, F1-score: 1.000, loss: 0.000\n",
      "Epoch [133] Accuracy: 1.000, Recall: 1.000, F1-score: 1.000, loss: 0.000\n",
      "Epoch [134] Accuracy: 1.000, Recall: 1.000, F1-score: 1.000, loss: 0.000\n",
      "Epoch [135] Accuracy: 1.000, Recall: 1.000, F1-score: 1.000, loss: 0.000\n",
      "Epoch [136] Accuracy: 1.000, Recall: 1.000, F1-score: 1.000, loss: 0.000\n",
      "Epoch [137] Accuracy: 1.000, Recall: 1.000, F1-score: 1.000, loss: 0.000\n",
      "Epoch [138] Accuracy: 1.000, Recall: 1.000, F1-score: 1.000, loss: 0.000\n",
      "Epoch [139] Accuracy: 1.000, Recall: 1.000, F1-score: 1.000, loss: 0.000\n",
      "Epoch [140] Accuracy: 1.000, Recall: 1.000, F1-score: 1.000, loss: 0.000\n",
      "Epoch [141] Accuracy: 1.000, Recall: 1.000, F1-score: 1.000, loss: 0.000\n",
      "Epoch [142] Accuracy: 1.000, Recall: 1.000, F1-score: 1.000, loss: 0.000\n",
      "Epoch [143] Accuracy: 1.000, Recall: 1.000, F1-score: 1.000, loss: 0.000\n",
      "Epoch [144] Accuracy: 1.000, Recall: 1.000, F1-score: 1.000, loss: 0.000\n",
      "Epoch [145] Accuracy: 1.000, Recall: 1.000, F1-score: 1.000, loss: 0.000\n",
      "Epoch [146] Accuracy: 1.000, Recall: 1.000, F1-score: 1.000, loss: 0.000\n",
      "Epoch [147] Accuracy: 1.000, Recall: 1.000, F1-score: 1.000, loss: 0.000\n",
      "Epoch [148] Accuracy: 1.000, Recall: 1.000, F1-score: 1.000, loss: 0.000\n",
      "Epoch [149] Accuracy: 1.000, Recall: 1.000, F1-score: 1.000, loss: 0.000\n",
      "Epoch [150] Accuracy: 1.000, Recall: 1.000, F1-score: 1.000, loss: 0.000\n",
      "Finished Training\n"
     ]
    }
   ],
   "source": [
    "from sklearn.metrics import accuracy_score, recall_score, f1_score\n",
    "\n",
    "for epoch in range(150):  # loop over the dataset multiple times\n",
    "\n",
    "    running_loss = 0.0\n",
    "    all_labels = []\n",
    "    all_preds = []\n",
    "    num_mini_batches = len(train_loader)\n",
    "    \n",
    "    for i, data in enumerate(train_loader, 0):\n",
    "        # get the inputs; data is a list of [inputs, labels]\n",
    "        inputs, labels = data\n",
    "\n",
    "        # zero the parameter gradients\n",
    "        optimizer.zero_grad()\n",
    "\n",
    "        # forward + backward + optimize\n",
    "        outputs = net(inputs)\n",
    "        loss = criterion(outputs, labels)\n",
    "        loss.backward()\n",
    "        optimizer.step()\n",
    "\n",
    "        # collect predictions and true labels\n",
    "        _, predicted = torch.max(outputs.data, 1)\n",
    "        all_labels.extend(labels.cpu().numpy())\n",
    "        all_preds.extend(predicted.cpu().numpy())\n",
    "\n",
    "        # print statistics\n",
    "        running_loss += loss.item()\n",
    "        \"\"\"\n",
    "        if i % 11 == 0:    # print every 2 mini-batches for this example\n",
    "            print(f'[{epoch + 1}, {i + 1:5d}] loss: {running_loss / 2:.3f}')\n",
    "            running_loss = 0.0\n",
    "        \"\"\"    \n",
    "\n",
    "    # Calculate metrics for the current epoch\n",
    "    average_loss = running_loss / num_mini_batches\n",
    "    accuracy = accuracy_score(all_labels, all_preds)\n",
    "    recall = recall_score(all_labels, all_preds, average='macro')\n",
    "    f1 = f1_score(all_labels, all_preds, average='macro')\n",
    "    \n",
    "    print(f'Epoch [{epoch + 1}] Accuracy: {accuracy:.3f}, Recall: {recall:.3f}, F1-score: {f1:.3f}, loss: {average_loss:.3f}')\n",
    "\n",
    "print('Finished Training')\n",
    "\n",
    "PATH = './PNA_net.pth'\n",
    "torch.save(net.state_dict(), PATH)"
   ]
  },
  {
   "cell_type": "code",
   "execution_count": 183,
   "id": "118380ae-9f8b-4db7-bc30-9c642252dda8",
   "metadata": {},
   "outputs": [
    {
     "data": {
      "image/png": "[encoded data removed]",
      "text/plain": [
       "<Figure size 640x480 with 1 Axes>"
      ]
     },
     "metadata": {},
     "output_type": "display_data"
    },
    {
     "name": "stdout",
     "output_type": "stream",
     "text": [
      "Alef  Lamed Shin  Yod   Waw   Alef \n"
     ]
    }
   ],
   "source": [
    "# get some random validation images\n",
    "dataiter = iter(validation_loader)\n",
    "images, labels = next(dataiter)\n",
    "\n",
    "# print images\n",
    "imshow(torchvision.utils.make_grid(images))\n",
    "print(' '.join(f'{map_dict[int(labels[j])]:5s}' for j in range(batch_size)))"
   ]
  },
  {
   "cell_type": "code",
   "execution_count": 184,
   "id": "af937860-882e-4d86-8b79-dee414871ce0",
   "metadata": {},
   "outputs": [
    {
     "data": {
      "text/plain": [
       "<All keys matched successfully>"
      ]
     },
     "execution_count": 184,
     "metadata": {},
     "output_type": "execute_result"
    }
   ],
   "source": [
    "net = Net()\n",
    "net.load_state_dict(torch.load(PATH)) #Saving the model into a file"
   ]
  },
  {
   "cell_type": "code",
   "execution_count": 185,
   "id": "c2576678-1aaa-45d7-87bf-f8c0b4f784a9",
   "metadata": {},
   "outputs": [],
   "source": [
    "outputs = net(images)"
   ]
  },
  {
   "cell_type": "code",
   "execution_count": 186,
   "id": "a27552e2-f34d-4787-9fdb-d6bd2fb568ea",
   "metadata": {
    "scrolled": true
   },
   "outputs": [
    {
     "name": "stdout",
     "output_type": "stream",
     "text": [
      "Predicted:  Alef  Lamed Shin  Yod   Waw   Alef \n"
     ]
    }
   ],
   "source": [
    "_, predicted = torch.max(outputs, 1)\n",
    "\n",
    "print('Predicted: ', ' '.join(f'{map_dict[int(predicted[j])]:5s}'\n",
    "                              for j in range(batch_size)))"
   ]
  },
  {
   "cell_type": "code",
   "execution_count": 187,
   "id": "acec9821-3a6e-49c2-afba-26496236d1e1",
   "metadata": {},
   "outputs": [],
   "source": [
    "def predict_solution(outputs, batch_size, topk) : # outputs results, batch size and the top n of probabilities\n",
    "    # Rescales them so that the elements of the n-dimensional output Tensor lie in the range [0,1] and sum to 1.\n",
    "    probabilities = F.softmax(outputs, dim=1)\n",
    "\n",
    "    # Retrieve the top 3 predictions for each image\n",
    "    top_probs, top_labels = torch.topk(probabilities, topk, dim=1)\n",
    "\n",
    "    # Mapping labels to classes\n",
    "    predictions = []\n",
    "    for i in range(batch_size):\n",
    "        predictions.append([(map_dict[int(top_labels[i][j])], top_probs[i][j].item()) for j in range(topk)])\n",
    "\n",
    "    # Display predictions\n",
    "    for i, preds in enumerate(predictions):\n",
    "        print(f'Image {i+1}:')\n",
    "        for label, prob in preds:\n",
    "            print(f'  {label}: {prob*100:.2f}%')"
   ]
  },
  {
   "cell_type": "code",
   "execution_count": 188,
   "id": "acab3e07-6247-4156-a553-81d2a361059e",
   "metadata": {},
   "outputs": [
    {
     "name": "stdout",
     "output_type": "stream",
     "text": [
      "Image 1:\n",
      "  Alef: 100.00%\n",
      "  Tav: 0.00%\n",
      "  Waw: 0.00%\n",
      "  Yod: 0.00%\n",
      "  Shin: 0.00%\n",
      "Image 2:\n",
      "  Lamed: 100.00%\n",
      "  Tav: 0.00%\n",
      "  Shin: 0.00%\n",
      "  Waw: 0.00%\n",
      "  Yod: 0.00%\n",
      "Image 3:\n",
      "  Shin: 100.00%\n",
      "  Yod: 0.00%\n",
      "  Tav: 0.00%\n",
      "  Lamed: 0.00%\n",
      "  Hey: 0.00%\n",
      "Image 4:\n",
      "  Yod: 99.96%\n",
      "  Tav: 0.03%\n",
      "  Waw: 0.01%\n",
      "  Hey: 0.00%\n",
      "  Lamed: 0.00%\n",
      "Image 5:\n",
      "  Waw: 100.00%\n",
      "  Hey: 0.00%\n",
      "  Yod: 0.00%\n",
      "  Alef: 0.00%\n",
      "  Tav: 0.00%\n",
      "Image 6:\n",
      "  Alef: 100.00%\n",
      "  Tav: 0.00%\n",
      "  Hey: 0.00%\n",
      "  Shin: 0.00%\n",
      "  Yod: 0.00%\n"
     ]
    }
   ],
   "source": [
    "predict_solution(outputs, batch_size, 5);"
   ]
  },
  {
   "cell_type": "code",
   "execution_count": 189,
   "id": "4200c6dc-a1ad-44ea-a40d-c83fbb44fc04",
   "metadata": {
    "scrolled": true
   },
   "outputs": [
    {
     "name": "stdout",
     "output_type": "stream",
     "text": [
      "Image 1:\n",
      "  Hey: 100.00%\n",
      "  Yod: 0.00%\n",
      "  Waw: 0.00%\n",
      "  Alef: 0.00%\n",
      "  Resh: 0.00%\n",
      "Image 1:\n",
      "  Yod: 100.00%\n",
      "  Shin: 0.00%\n",
      "  Alef: 0.00%\n",
      "  Hey: 0.00%\n",
      "  Waw: 0.00%\n"
     ]
    }
   ],
   "source": [
    "transform = transforms.Compose([\n",
    "    transforms.Resize((28, 28)),\n",
    "    transforms.ToTensor(),\n",
    "    transforms.Normalize(0.5, 0.5)\n",
    "])\n",
    "\n",
    "image = Image.open(\"test_image_1.jpg\") #Loading Image to test with the model\n",
    "image = ImageOps.invert(image.convert('L')) #Putting into a greyscale\n",
    "image = transform(image)\n",
    "image = image.unsqueeze(0)\n",
    "\n",
    "outputs2 = net(image) #Test with model\n",
    "\n",
    "predict_solution(outputs2, 1, 5) #Results\n",
    "\n",
    "image = Image.open(\"test_image_2.jpg\") #Loading Image to test with the model\n",
    "image = ImageOps.invert(image.convert('L')) #Putting into a greyscale\n",
    "image = transform(image)\n",
    "image = image.unsqueeze(0)\n",
    "\n",
    "outputs2 = net(image) #Test with model\n",
    "\n",
    "predict_solution(outputs2, 1, 5) #Results"
   ]
  },
  {
   "cell_type": "code",
   "execution_count": 190,
   "id": "78d0711e-d605-4f17-a1b1-a7189de5e8c7",
   "metadata": {},
   "outputs": [],
   "source": [
    "device = torch.device(\"cuda\" if torch.cuda.is_available() else \"cpu\")\n",
    "\n",
    "def evaluate_model(model, data_loader):\n",
    "    model.eval()\n",
    "    all_predictions = []\n",
    "    all_targets = []\n",
    "\n",
    "    with torch.no_grad():\n",
    "        for images, targets in data_loader:\n",
    "            images = images.to(device)  # Envoyer les images sur le GPU si disponible\n",
    "            targets = targets.to(device)  # Envoyer les étiquettes sur le GPU si disponible\n",
    "\n",
    "            # Faire des prédictions\n",
    "            outputs = model(images)\n",
    "            _, predictions = torch.max(outputs, 1)  # Sélectionner la classe avec la plus haute probabilité\n",
    "\n",
    "            # Collecter les prédictions et les étiquettes réelles\n",
    "            all_predictions.extend(predictions.cpu().numpy())\n",
    "            all_targets.extend(targets.cpu().numpy())\n",
    "\n",
    "    return all_predictions, all_targets\n",
    "\n",
    "# Exemple d'utilisation\n",
    "predictions, targets = evaluate_model(net, validation_loader)"
   ]
  },
  {
   "cell_type": "code",
   "execution_count": 191,
   "id": "d69d8cf0-5056-42f1-92a7-b37add0c8a5c",
   "metadata": {},
   "outputs": [
    {
     "name": "stdout",
     "output_type": "stream",
     "text": [
      "[[163   0   1   3   0   0   3]\n",
      " [  0 160   1   7   0   0   0]\n",
      " [  3   2 168   1   0   0   0]\n",
      " [  1   5   1 177   0   0   0]\n",
      " [  0   0   0   0 187   0   0]\n",
      " [  0   0   0   3   1 121   0]\n",
      " [  5   0   2   1   0   2 145]]\n"
     ]
    }
   ],
   "source": [
    "from sklearn.metrics import confusion_matrix\n",
    "\n",
    "# Calculer la matrice de confusion\n",
    "current_labels_num = list(dict.fromkeys(targets))\n",
    "current_labels_num.sort()\n",
    "#doc : https://scikit-learn.org/stable/modules/generated/sklearn.metrics.confusion_matrix.html\n",
    "conf_matrix = confusion_matrix(targets, predictions)\n",
    "\n",
    "# Afficher la matrice de confusion (optionnel)\n",
    "print(conf_matrix)"
   ]
  },
  {
   "cell_type": "code",
   "execution_count": 192,
   "id": "37f82ac8-f828-4c7a-a6eb-f781217fa5ae",
   "metadata": {},
   "outputs": [
    {
     "data": {
      "image/png": "[encoded data removed]",
      "text/plain": [
       "<Figure size 1000x800 with 2 Axes>"
      ]
     },
     "metadata": {},
     "output_type": "display_data"
    }
   ],
   "source": [
    "import matplotlib.pyplot as plt\n",
    "import seaborn as sns\n",
    "import numpy as np\n",
    "\n",
    "# Définir les noms de classe (étiquettes)\n",
    "current_labels_num = list(dict.fromkeys(targets))\n",
    "current_labels_num.sort()\n",
    "output_list = [map_dict.get(label, 'unknown') for label in current_labels_num]\n",
    "classes = output_list\n",
    "\n",
    "# Afficher la matrice de confusion avec seaborn\n",
    "plt.figure(figsize=(10, 8))\n",
    "sns.heatmap(conf_matrix, annot=True, fmt='d', cmap='Blues', xticklabels=classes, yticklabels=classes)\n",
    "plt.xlabel('Predicted Labels')\n",
    "plt.ylabel('True Labels')\n",
    "plt.title('Confusion Matrix')\n",
    "plt.show()"
   ]
  }
 ],
 "metadata": {
  "kernelspec": {
   "display_name": "Python 3 (ipykernel)",
   "language": "python",
   "name": "python3"
  },
  "language_info": {
   "codemirror_mode": {
    "name": "ipython",
    "version": 3
   },
   "file_extension": ".py",
   "mimetype": "text/x-python",
   "name": "python",
   "nbconvert_exporter": "python",
   "pygments_lexer": "ipython3",
   "version": "3.10.2"
  }
 },
 "nbformat": 4,
 "nbformat_minor": 5
}
