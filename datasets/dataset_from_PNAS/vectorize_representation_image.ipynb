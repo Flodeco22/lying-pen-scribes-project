{
 "cells": [
  {
   "cell_type": "code",
   "execution_count": 2,
   "id": "79025a8a-0ad6-4513-9b0b-1c787c3bd5d5",
   "metadata": {},
   "outputs": [],
   "source": [
    "import cv2 as cv\n",
    "import numpy as np\n",
    "from matplotlib import pyplot as plt"
   ]
  },
  {
   "cell_type": "code",
   "execution_count": 8,
   "id": "23ee2d83-ecb1-4cfd-8f83-d16d4ba81ec9",
   "metadata": {},
   "outputs": [],
   "source": [
    "def hog_descriptors(imgs):\n",
    "    # Create a list to store the HOG feature vectors\n",
    "    hog_features = []\n",
    "\n",
    "    # Set parameter values for the HOG descriptor based on the image data in use\n",
    "    winSize = (20, 20)\n",
    "    blockSize = (10, 10)\n",
    "    blockStride = (5, 5)\n",
    "    cellSize = (10, 10)\n",
    "    nbins = 9\n",
    "\n",
    "    # Set the remaining parameters to their default values\n",
    "    derivAperture = 1\n",
    "    winSigma = -1.\n",
    "    histogramNormType = 0\n",
    "    L2HysThreshold = 0.2\n",
    "    gammaCorrection = False\n",
    "    nlevels = 64\n",
    "\n",
    "    # Create a HOG descriptor\n",
    "    hog = cv.HOGDescriptor(winSize, blockSize, blockStride, cellSize, nbins, derivAperture, winSigma,\n",
    "                        histogramNormType, L2HysThreshold, gammaCorrection, nlevels)\n",
    "\n",
    "    # Compute HOG descriptors for the input images and append the feature vectors to the list\n",
    "    for img in imgs:\n",
    "        hist = hog.compute(img.reshape(20, 20).astype(uint8))\n",
    "        hog_features.append(hist)\n",
    "\n",
    "    return array(hog_features)"
   ]
  },
  {
   "cell_type": "code",
   "execution_count": 9,
   "id": "b0236f3c-b13a-4274-a6d2-1c7ac48d60ce",
   "metadata": {},
   "outputs": [
    {
     "ename": "TypeError",
     "evalue": "'NoneType' object is not iterable",
     "output_type": "error",
     "traceback": [
      "\u001b[1;31m---------------------------------------------------------------------------\u001b[0m",
      "\u001b[1;31mTypeError\u001b[0m                                 Traceback (most recent call last)",
      "Cell \u001b[1;32mIn[9], line 20\u001b[0m\n\u001b[0;32m      1\u001b[0m \u001b[38;5;124;03m'''\u001b[39;00m\n\u001b[0;32m      2\u001b[0m \u001b[38;5;124;03mfrom digits_dataset import split_images, split_data\u001b[39;00m\n\u001b[0;32m      3\u001b[0m \u001b[38;5;124;03mfrom cifar_dataset import load_images\u001b[39;00m\n\u001b[1;32m   (...)\u001b[0m\n\u001b[0;32m     16\u001b[0m \u001b[38;5;124;03mcifar_subset = cifar_imgs[0:100, :]\u001b[39;00m\n\u001b[0;32m     17\u001b[0m \u001b[38;5;124;03m'''\u001b[39;00m\n\u001b[0;32m     19\u001b[0m img_test \u001b[38;5;241m=\u001b[39m cv\u001b[38;5;241m.\u001b[39mimread(\u001b[38;5;124m\"\u001b[39m\u001b[38;5;124mtest_holo.jpg\u001b[39m\u001b[38;5;124m\"\u001b[39m, cv\u001b[38;5;241m.\u001b[39mIMREAD_GRAYSCALE)\n\u001b[1;32m---> 20\u001b[0m \u001b[43mhog_descriptors\u001b[49m\u001b[43m(\u001b[49m\u001b[43mimg_test\u001b[49m\u001b[43m)\u001b[49m\n",
      "Cell \u001b[1;32mIn[8], line 25\u001b[0m, in \u001b[0;36mhog_descriptors\u001b[1;34m(imgs)\u001b[0m\n\u001b[0;32m     21\u001b[0m hog \u001b[38;5;241m=\u001b[39m cv\u001b[38;5;241m.\u001b[39mHOGDescriptor(winSize, blockSize, blockStride, cellSize, nbins, derivAperture, winSigma,\n\u001b[0;32m     22\u001b[0m                     histogramNormType, L2HysThreshold, gammaCorrection, nlevels)\n\u001b[0;32m     24\u001b[0m \u001b[38;5;66;03m# Compute HOG descriptors for the input images and append the feature vectors to the list\u001b[39;00m\n\u001b[1;32m---> 25\u001b[0m \u001b[38;5;28;01mfor\u001b[39;00m img \u001b[38;5;129;01min\u001b[39;00m imgs:\n\u001b[0;32m     26\u001b[0m     hist \u001b[38;5;241m=\u001b[39m hog\u001b[38;5;241m.\u001b[39mcompute(img\u001b[38;5;241m.\u001b[39mreshape(\u001b[38;5;241m20\u001b[39m, \u001b[38;5;241m20\u001b[39m)\u001b[38;5;241m.\u001b[39mastype(uint8))\n\u001b[0;32m     27\u001b[0m     hog_features\u001b[38;5;241m.\u001b[39mappend(hist)\n",
      "\u001b[1;31mTypeError\u001b[0m: 'NoneType' object is not iterable"
     ]
    }
   ],
   "source": [
    "\n",
    "'''\n",
    "from digits_dataset import split_images, split_data\n",
    "from cifar_dataset import load_images\n",
    "\n",
    "# Load the digits image\n",
    "img, sub_imgs = split_images('Images/digits.png', 20)\n",
    "\n",
    "# Obtain a dataset from the digits image\n",
    "digits_imgs, _, _, _ = split_data(20, sub_imgs, 0.8)\n",
    "\n",
    "# Load a batch of images from the CIFAR dataset\n",
    "cifar_imgs = load_images('Images/cifar-10-batches-py/data_batch_1')\n",
    "\n",
    "# Consider only a subset of images\n",
    "digits_subset = digits_imgs[0:100, :]\n",
    "cifar_subset = cifar_imgs[0:100, :]\n",
    "'''\n",
    "\n",
    "img_test = cv.imread(\"test_holo.jpg\", cv.IMREAD_GRAYSCALE)\n",
    "\n",
    "hog_descriptors(img_test)"
   ]
  },
  {
   "cell_type": "code",
   "execution_count": 4,
   "id": "fb6e0913-7cb4-4b0e-bd3b-38d839db6d6d",
   "metadata": {},
   "outputs": [
    {
     "name": "stdout",
     "output_type": "stream",
     "text": [
      "Vectorized image shape: (784,)\n",
      "Image Vector:\n",
      "1 1 1 1 1 1 1 1 1 1 1 1 1 1 1 1 1 1 1 1 1 1 1 1 0 1 1 1 \n",
      "1 1 1 1 1 1 1 1 1 1 1 1 1 1 1 1 1 1 1 1 1 1 0 0 0 0 0 1 \n",
      "1 1 1 1 1 1 1 1 1 1 1 1 1 1 1 1 1 1 1 1 1 0 0 0 0 0 0 1 \n",
      "1 1 1 1 1 1 1 1 0 0 1 1 1 1 1 1 1 1 1 1 0 0 0 0 0 0 0 1 \n",
      "1 1 1 1 1 1 1 0 0 0 0 1 1 1 1 1 1 1 0 0 0 0 0 0 0 0 0 1 \n",
      "1 1 1 1 1 1 0 0 0 0 0 0 1 1 1 1 0 0 0 0 0 0 0 0 0 0 1 1 \n",
      "1 1 1 1 1 1 0 0 0 0 0 0 1 1 0 0 0 0 0 0 0 0 0 0 0 1 1 1 \n",
      "1 1 1 1 1 1 0 0 0 0 0 0 0 0 0 0 0 0 0 0 0 0 1 1 1 1 1 1 \n",
      "1 1 1 1 1 1 0 0 0 0 0 0 0 0 0 0 0 0 0 0 1 1 1 1 0 0 0 1 \n",
      "1 1 1 1 1 1 0 0 0 0 0 0 0 0 0 0 0 0 1 1 0 0 0 0 0 0 0 0 \n",
      "1 1 1 1 1 0 0 0 0 0 0 0 0 0 0 0 0 0 0 0 0 0 0 0 0 0 0 0 \n",
      "1 1 0 0 0 0 0 0 0 0 0 0 0 0 0 0 0 0 0 0 0 0 0 0 0 0 0 1 \n",
      "1 0 0 0 0 0 0 0 0 0 0 0 0 0 0 0 0 0 0 0 0 0 0 0 0 0 1 1 \n",
      "0 0 0 0 0 0 0 0 0 0 0 0 0 0 0 0 0 0 0 0 0 0 0 0 1 1 1 1 \n",
      "0 0 0 0 0 0 0 0 0 0 0 0 0 0 0 0 0 0 0 1 1 1 1 1 1 1 1 1 \n",
      "1 0 0 0 0 0 0 0 0 0 0 0 0 0 0 0 1 1 1 1 1 1 1 1 1 1 1 1 \n",
      "1 1 0 0 0 1 1 1 1 0 0 0 0 0 0 0 1 1 1 1 1 1 1 1 1 1 1 1 \n",
      "1 1 1 1 1 1 1 1 1 1 0 0 0 0 0 0 1 1 1 1 1 1 1 1 1 1 1 1 \n",
      "1 1 1 1 1 1 1 1 1 1 0 0 0 0 0 0 1 1 1 1 1 1 1 1 1 1 1 1 \n",
      "1 1 1 1 1 1 1 1 1 1 0 0 0 0 0 0 1 1 1 1 1 1 1 1 1 1 1 1 \n",
      "1 1 1 1 1 1 1 1 1 1 1 0 0 0 0 0 1 1 1 1 1 1 1 1 1 1 1 1 \n",
      "1 1 1 1 1 1 1 1 1 1 1 0 0 0 0 0 1 1 1 1 1 1 1 1 1 1 1 1 \n",
      "1 1 1 1 1 1 1 1 1 1 1 0 0 0 0 1 1 1 1 1 1 1 1 1 1 1 1 1 \n",
      "1 1 1 1 1 1 1 1 1 1 1 1 0 0 0 1 1 1 1 1 1 1 1 1 1 1 1 1 \n",
      "1 1 1 1 1 1 1 1 1 1 1 1 0 0 0 1 1 1 1 1 1 1 1 1 1 1 1 1 \n",
      "1 1 1 1 1 1 1 1 1 1 1 1 0 0 0 1 1 1 1 1 1 1 1 1 1 1 1 1 \n",
      "1 1 1 1 1 1 1 1 1 1 1 1 1 0 1 1 1 1 1 1 1 1 1 1 1 1 1 1 \n",
      "1 1 1 1 1 1 1 1 1 1 1 1 1 0 1 1 1 1 1 1 1 1 1 1 1 1 1 1 \n"
     ]
    }
   ],
   "source": [
    "def display_image_vector(image_vector, width):\n",
    "    print(\"Image Vector:\")\n",
    "    for i in range(len(image_vector)):\n",
    "        print(image_vector[i], end=\" \")\n",
    "        if (i + 1) % width == 0:\n",
    "            print() \n",
    "\n",
    "def vectorize_image_opencv(image_path, width, height):\n",
    "    # Lire l'image avec OpenCV\n",
    "    img = cv.imread(image_path, cv.IMREAD_GRAYSCALE)\n",
    "\n",
    "    #Binarization\n",
    "    ret,thresh = cv.threshold(img,0,1,cv.THRESH_BINARY+cv.THRESH_OTSU)   \n",
    "\n",
    "    # Redimensionner l'image à une taille fixe si nécessaire\n",
    "    img_resized = cv.resize(thresh, (width, height))\n",
    "\n",
    "    # Aplatir l'image en un vecteur 1D\n",
    "    img_vector = img_resized.flatten()\n",
    "\n",
    "    return img_vector\n",
    "\n",
    "# Exemple d'utilisation\n",
    "image_path = \"to_vectorize.bmp\"\n",
    "width = 28  # Largeur désirée de l'image\n",
    "height = 28  # Hauteur désirée de l'image\n",
    "\n",
    "vector1 = vectorize_image_opencv(image_path, width, height)\n",
    "print(\"Vectorized image shape:\", vector1.shape)\n",
    "display_image_vector(vector1, width)\n"
   ]
  },
  {
   "cell_type": "code",
   "execution_count": 14,
   "id": "f1b46851-9941-4bf3-a20d-4b8cb12197d9",
   "metadata": {},
   "outputs": [],
   "source": [
    "width = 28  # Largeur désirée de l'image\n",
    "height = 28  # Hauteur désirée de l'image\n",
    "\n",
    "image_path = \"to_vectorize.bmp\"\n",
    "vector1 = vectorize_image_opencv(image_path, width, height)\n",
    "\n",
    "image_path = \"to_vectorize2.bmp\"\n",
    "vector2 = vectorize_image_opencv(image_path, width, height)\n",
    "\n",
    "image_path = \"to_vectorize3.bmp\"\n",
    "vector3 = vectorize_image_opencv(image_path, width, height)\n",
    "\n",
    "image_path = \"to_vectorize4.bmp\"\n",
    "vector4 = vectorize_image_opencv(image_path, width, height)"
   ]
  },
  {
   "cell_type": "code",
   "execution_count": 15,
   "id": "9af71e11-3679-4a80-9ade-ab87c7942583",
   "metadata": {},
   "outputs": [],
   "source": [
    "# Between -1 and 1\n",
    "def pearson_correlation(vector1, vector2):\n",
    "    return np.corrcoef(vector1, vector2)[0, 1]"
   ]
  },
  {
   "cell_type": "code",
   "execution_count": 16,
   "id": "871e7491-3a8f-47d7-8226-8215d5071cb0",
   "metadata": {},
   "outputs": [
    {
     "data": {
      "text/plain": [
       "0.5549632505371852"
      ]
     },
     "execution_count": 16,
     "metadata": {},
     "output_type": "execute_result"
    }
   ],
   "source": [
    "# \"same letters - same text\"\n",
    "pearson_correlation(vector1, vector2)"
   ]
  },
  {
   "cell_type": "code",
   "execution_count": 17,
   "id": "07768325-89d1-4bdb-ac95-2ec9c8499b97",
   "metadata": {},
   "outputs": [
    {
     "data": {
      "text/plain": [
       "0.2679083134178581"
      ]
     },
     "execution_count": 17,
     "metadata": {},
     "output_type": "execute_result"
    }
   ],
   "source": [
    "# \"not same letters - same text\"\n",
    "pearson_correlation(vector1, vector3)"
   ]
  },
  {
   "cell_type": "code",
   "execution_count": 18,
   "id": "c15aa421-ee40-44cf-a59d-db99077b9357",
   "metadata": {},
   "outputs": [
    {
     "data": {
      "text/plain": [
       "0.3892246047903866"
      ]
     },
     "execution_count": 18,
     "metadata": {},
     "output_type": "execute_result"
    }
   ],
   "source": [
    "# \"same letters - not same text\"\n",
    "pearson_correlation(vector2, vector4)"
   ]
  },
  {
   "cell_type": "code",
   "execution_count": 19,
   "id": "c294793a-4547-432b-8ee5-3cf58fdacfa6",
   "metadata": {},
   "outputs": [],
   "source": [
    "# Between -1 and 1\n",
    "def cosine_similarity(vector1, vector2):\n",
    "    dot_product = np.dot(vector1, vector2)\n",
    "    norm_product = np.linalg.norm(vector1) * np.linalg.norm(vector2)\n",
    "    return dot_product / norm_product"
   ]
  },
  {
   "cell_type": "code",
   "execution_count": 20,
   "id": "f6a45646-d9fc-4d31-9ec9-7d95f738fa18",
   "metadata": {},
   "outputs": [
    {
     "data": {
      "text/plain": [
       "0.2999044451973735"
      ]
     },
     "execution_count": 20,
     "metadata": {},
     "output_type": "execute_result"
    }
   ],
   "source": [
    "# \"same letters - same text\"\n",
    "cosine_similarity(vector1, vector2)"
   ]
  },
  {
   "cell_type": "code",
   "execution_count": 21,
   "id": "89caaea3-1c13-45c5-9ae4-3cb021cf85b9",
   "metadata": {},
   "outputs": [
    {
     "data": {
      "text/plain": [
       "0.04989827049481759"
      ]
     },
     "execution_count": 21,
     "metadata": {},
     "output_type": "execute_result"
    }
   ],
   "source": [
    "# \"not same letters - same text\"\n",
    "cosine_similarity(vector1, vector3)"
   ]
  },
  {
   "cell_type": "code",
   "execution_count": 22,
   "id": "3f9b6bd2-ecb6-478e-b61c-3773312376f1",
   "metadata": {},
   "outputs": [
    {
     "data": {
      "text/plain": [
       "0.2583629417451751"
      ]
     },
     "execution_count": 22,
     "metadata": {},
     "output_type": "execute_result"
    }
   ],
   "source": [
    "# \"same letters - not same text\"\n",
    "cosine_similarity(vector2, vector4)"
   ]
  }
 ],
 "metadata": {
  "kernelspec": {
   "display_name": "Python 3 (ipykernel)",
   "language": "python",
   "name": "python3"
  },
  "language_info": {
   "codemirror_mode": {
    "name": "ipython",
    "version": 3
   },
   "file_extension": ".py",
   "mimetype": "text/x-python",
   "name": "python",
   "nbconvert_exporter": "python",
   "pygments_lexer": "ipython3",
   "version": "3.10.2"
  }
 },
 "nbformat": 4,
 "nbformat_minor": 5
}
