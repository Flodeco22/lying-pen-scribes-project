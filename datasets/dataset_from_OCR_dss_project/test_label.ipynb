{
 "cells": [
  {
   "cell_type": "code",
   "execution_count": 5,
   "id": "d0456724-25ea-46e1-baa4-35f03a9db17c",
   "metadata": {},
   "outputs": [],
   "source": [
    "from mnist import MNIST\n",
    "\n",
    "mndata = MNIST('train-labels')\n",
    "\n",
    "images, labels = mndata.load_training()"
   ]
  },
  {
   "cell_type": "code",
   "execution_count": 18,
   "id": "d64eba70-432c-4da0-9496-22c58161a573",
   "metadata": {},
   "outputs": [
    {
     "name": "stdout",
     "output_type": "stream",
     "text": [
      "\n",
      "............................\n",
      "............................\n",
      "............................\n",
      "............................\n",
      "............................\n",
      "..................@@........\n",
      "..................@@........\n",
      "..................@@........\n",
      "..........@......@@@........\n",
      ".........@@......@@.........\n",
      ".........@@......@@.........\n",
      ".........@@.....@@@.........\n",
      ".........@@....@@@@.........\n",
      ".........@@....@@@..........\n",
      "........@@@@@@@@@@..........\n",
      ".......@@@@@@@@@@@..........\n",
      ".......@@@@.....@@..........\n",
      "........@.......@@..........\n",
      "................@@..........\n",
      "...............@@...........\n",
      "...............@@...........\n",
      "...............@@@..........\n",
      "...............@@@..........\n",
      "...............@@@..........\n",
      "............................\n",
      "............................\n",
      "............................\n",
      "............................\n",
      "4\n",
      "10000\n",
      "[7, 2, 1, 0, 4, 9, 5, 6, 3, 8]\n"
     ]
    },
    {
     "data": {
      "text/plain": [
       "'src : https://stackoverflow.com/questions/40427435/extract-images-from-idx3-ubyte-file-or-gzip-via-python'"
      ]
     },
     "execution_count": 18,
     "metadata": {},
     "output_type": "execute_result"
    }
   ],
   "source": [
    "import random\n",
    "\n",
    "index = random.randrange(0, len(images))  # choose an index ;-)\n",
    "print(mndata.display(images[index]))\n",
    "print(labels[index])\n",
    "print(len(images))\n",
    "\n",
    "list_uniq_labels = []\n",
    "\n",
    "# Parcourir chaque élément du tableau\n",
    "for label in labels:\n",
    "    # Si l'élément n'est pas déjà dans la liste des éléments uniques, on l'ajoute\n",
    "    if label not in list_uniq_labels:\n",
    "        list_uniq_labels.append(label)\n",
    "\n",
    "# Afficher la liste des éléments uniques\n",
    "print(list_uniq_labels)\n",
    "\n",
    "\"\"\"src : https://stackoverflow.com/questions/40427435/extract-images-from-idx3-ubyte-file-or-gzip-via-python\"\"\""
   ]
  }
 ],
 "metadata": {
  "kernelspec": {
   "display_name": "Python 3 (ipykernel)",
   "language": "python",
   "name": "python3"
  },
  "language_info": {
   "codemirror_mode": {
    "name": "ipython",
    "version": 3
   },
   "file_extension": ".py",
   "mimetype": "text/x-python",
   "name": "python",
   "nbconvert_exporter": "python",
   "pygments_lexer": "ipython3",
   "version": "3.10.2"
  }
 },
 "nbformat": 4,
 "nbformat_minor": 5
}
